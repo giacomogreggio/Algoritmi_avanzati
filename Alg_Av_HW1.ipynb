{
  "nbformat": 4,
  "nbformat_minor": 0,
  "metadata": {
    "colab": {
      "name": "Alg_Av_HW1.ipynb",
      "provenance": [],
      "collapsed_sections": [],
      "include_colab_link": true
    },
    "kernelspec": {
      "name": "python3",
      "display_name": "Python 3"
    }
  },
  "cells": [
    {
      "cell_type": "markdown",
      "metadata": {
        "id": "view-in-github",
        "colab_type": "text"
      },
      "source": [
        "<a href=\"https://colab.research.google.com/github/giacomogreggio/Algoritmi_avanzati/blob/master/Alg_Av_HW1.ipynb\" target=\"_parent\"><img src=\"https://colab.research.google.com/assets/colab-badge.svg\" alt=\"Open In Colab\"/></a>"
      ]
    },
    {
      "cell_type": "markdown",
      "metadata": {
        "id": "k6r6mdPzyZ9Q",
        "colab_type": "text"
      },
      "source": [
        "# Downloading Dataset"
      ]
    },
    {
      "cell_type": "code",
      "metadata": {
        "id": "tEof_QKwfyKH",
        "colab_type": "code",
        "outputId": "6b3e3602-dc9c-4a99-a086-7e9d01d9987b",
        "colab": {
          "base_uri": "https://localhost:8080/",
          "height": 34
        }
      },
      "source": [
        "from google.colab import drive\n",
        "drive.mount('/content/drive')"
      ],
      "execution_count": 34,
      "outputs": [
        {
          "output_type": "stream",
          "text": [
            "Drive already mounted at /content/drive; to attempt to forcibly remount, call drive.mount(\"/content/drive\", force_remount=True).\n"
          ],
          "name": "stdout"
        }
      ]
    },
    {
      "cell_type": "code",
      "metadata": {
        "id": "VSctLqwtjEiR",
        "colab_type": "code",
        "colab": {}
      },
      "source": [
        "dataset_path=\"/content/drive/My Drive/Colab Notebooks/algoritmi_avanzati/Homework_1/dataset/input_random_01_10.txt\""
      ],
      "execution_count": 0,
      "outputs": []
    },
    {
      "cell_type": "markdown",
      "metadata": {
        "id": "DU5fy914ydLe",
        "colab_type": "text"
      },
      "source": [
        "# Defining the data structures"
      ]
    },
    {
      "cell_type": "code",
      "metadata": {
        "id": "kqlvEM5pkYW_",
        "colab_type": "code",
        "colab": {}
      },
      "source": [
        "class Edge:\n",
        "  def __init__(self, node1,node2, weight=None):\n",
        "    self.node1=node1\n",
        "    self.node2=node2\n",
        "    self.weight=weight"
      ],
      "execution_count": 0,
      "outputs": []
    },
    {
      "cell_type": "code",
      "metadata": {
        "id": "E8HADPW4l531",
        "colab_type": "code",
        "colab": {}
      },
      "source": [
        "def import_graph(dataset_path):\n",
        "  dataset_file=open(dataset_path,\"r\")\n",
        "  content=dataset_file.read()\n",
        "  dataset=content.split()\n",
        "\n",
        "  n_nodes=int(dataset.pop(0))\n",
        "  n_edges=int(dataset.pop(0))\n",
        "  edge_list=[]\n",
        "  adiacence_list={}\n",
        "  for i in range(0,n_nodes+1):\n",
        "    adiacence_list[i]=[]\n",
        "  \n",
        "  i=0\n",
        "  while i<len(dataset):\n",
        "    new_edge=Edge(int(dataset[i]),int(dataset[i+1]),int(dataset[i+2]))\n",
        "    edge_list.append(new_edge)\n",
        "    adiacence_list[int(dataset[i])].append(new_edge)\n",
        "    i=i+3\n",
        "  return edge_list, adiacence_list, n_nodes, n_edges"
      ],
      "execution_count": 0,
      "outputs": []
    },
    {
      "cell_type": "code",
      "metadata": {
        "colab_type": "code",
        "id": "NuX9b0PnyVNh",
        "colab": {}
      },
      "source": [
        "edge_list, adiacence_list, n_nodes, n_edges = import_graph(dataset_path)"
      ],
      "execution_count": 0,
      "outputs": []
    }
  ]
}