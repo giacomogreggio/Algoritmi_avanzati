{
  "nbformat": 4,
  "nbformat_minor": 0,
  "metadata": {
    "colab": {
      "name": "Alg_Av_HW1.ipynb",
      "provenance": [],
      "collapsed_sections": [],
      "include_colab_link": true
    },
    "kernelspec": {
      "display_name": "Python 3",
      "language": "python",
      "name": "python3"
    },
    "language_info": {
      "codemirror_mode": {
        "name": "ipython",
        "version": 3
      },
      "file_extension": ".py",
      "mimetype": "text/x-python",
      "name": "python",
      "nbconvert_exporter": "python",
      "pygments_lexer": "ipython3",
      "version": "3.8.1"
    }
  },
  "cells": [
    {
      "cell_type": "markdown",
      "metadata": {
        "id": "view-in-github",
        "colab_type": "text"
      },
      "source": [
        "<a href=\"https://colab.research.google.com/github/giacomogreggio/Algoritmi_avanzati/blob/master/Alg_Av_HW1.ipynb\" target=\"_parent\"><img src=\"https://colab.research.google.com/assets/colab-badge.svg\" alt=\"Open In Colab\"/></a>"
      ]
    },
    {
      "cell_type": "markdown",
      "metadata": {
        "colab_type": "text",
        "id": "cDaJgn5Nw5Z-"
      },
      "source": [
        "# Introduction\n",
        "This is a python notebook containing the execution of the first homework of the course \"Advanced Algorithms 2019/2020\".\n",
        "  \n",
        "Inside this notebook we will analize some of the most common algorithms used to find the Minimum Spanning Tree(MST) of a graph.\n",
        "\n",
        "In particular we will implement and analize the following algorithms:\n",
        "* Prim\n",
        "* Kruskal Naive\n",
        "* Kruskal With Union Find\n"
      ]
    },
    {
      "cell_type": "markdown",
      "metadata": {
        "colab_type": "text",
        "id": "j4hEqgO76s9h"
      },
      "source": [
        "# Minimum Spanning Trees(MSTs)\n",
        "\n",
        "A minimum spanning tree (MST) or minimum weight spanning tree is a subset of the edges of a connected, edge-weighted undirected graph that connects all the vertices together, without any cycles and with the minimum possible total edge weight. That is, it is a spanning tree whose sum of edge weights is as small as possible.\n",
        "All the algorithms that we will see are based on the following generic algorithm:\n",
        "\n",
        "\n",
        "```\n",
        "A=empty set\n",
        "while A doesn't form a spanning tree\n",
        "  find an edge (u,v) that is safe for A\n",
        "  A = A U {(u,v)}\n",
        "return A\n",
        "```\n",
        "How do we find a safe edge? By exploiting the following structural properties of the MSTs. First some definitions:\n",
        "* A **cut** (S,V\\S) of a graph G=(V,E) is a partition of V\n",
        "* An edge (u,v) **belongs** to the set E if crosses the cut (S,V\\S) if u belongs to S and v belongs to V\\S or viceversa.\n",
        "* A cut **respects** a set A of edges if no edge of A crosses the cut\n",
        "* Given a cut the edge of minimum weight that crosses it is called **light edge**\n",
        "  \n",
        "**Theorem**:  \n",
        "Given a fully connected, non directed and weighted graph G=(V,E), if A is a subset of E included in some MST of the graph G, and if (S, S\\V) is a cut that respects A, and if (u,v) is a light edge for (S, V\\S) then (u,v) is a safe edge for A\n"
      ]
    },
    {
      "cell_type": "markdown",
      "metadata": {
        "colab_type": "text",
        "id": "63tcYk2Slfzh"
      },
      "source": [
        "# Importing the dependencies"
      ]
    },
    {
      "cell_type": "code",
      "metadata": {
        "colab_type": "code",
        "id": "HVgd2_mvld4O",
        "colab": {}
      },
      "source": [
        "import math\n",
        "import time\n",
        "from google.colab import drive\n",
        "import random\n",
        "import os\n",
        "import matplotlib.pylab as plt\n",
        "%matplotlib inline\n",
        "from statistics import mean"
      ],
      "execution_count": 0,
      "outputs": []
    },
    {
      "cell_type": "markdown",
      "metadata": {
        "colab_type": "text",
        "id": "maZsNrdzZ2pt"
      },
      "source": [
        "# Notebook configuration\n"
      ]
    },
    {
      "cell_type": "markdown",
      "metadata": {
        "colab_type": "text",
        "id": "XhTpz-3YbKrH"
      },
      "source": [
        "This section contains the configuration needed to run this notebook  \n",
        "First of all you need to upload the datasets where all the algorithms will be run to a folder on google drive  \n",
        "Next please mount your google drive by following the instructions that will be described below"
      ]
    },
    {
      "cell_type": "code",
      "metadata": {
        "colab_type": "code",
        "id": "tEof_QKwfyKH",
        "colab": {}
      },
      "source": [
        "drive.mount('/content/drive', force_remount=True)"
      ],
      "execution_count": 0,
      "outputs": []
    },
    {
      "cell_type": "markdown",
      "metadata": {
        "colab_type": "text",
        "id": "3LA-buVBbCd1"
      },
      "source": [
        "Please set the following variable to the path of the folder where you uploaded all the datasets"
      ]
    },
    {
      "cell_type": "code",
      "metadata": {
        "colab_type": "code",
        "id": "Pf7lYDFVZ0Za",
        "colab": {}
      },
      "source": [
        "dataset_folder=\"/content/drive/My Drive/Colab Notebooks/algoritmi_avanzati/Homework_1/dataset3\""
      ],
      "execution_count": 0,
      "outputs": []
    },
    {
      "cell_type": "markdown",
      "metadata": {
        "colab_type": "text",
        "id": "DU5fy914ydLe"
      },
      "source": [
        "# Defining the data structures"
      ]
    },
    {
      "cell_type": "markdown",
      "metadata": {
        "colab_type": "text",
        "id": "Uc2sPQflcdVx"
      },
      "source": [
        "Firstly we define a class that will be used inside all of this notebook to represent the edges of the graphs"
      ]
    },
    {
      "cell_type": "code",
      "metadata": {
        "colab_type": "code",
        "id": "kqlvEM5pkYW_",
        "colab": {}
      },
      "source": [
        "class Edge:\n",
        "    def __init__(self, node1,node2, weight=None):\n",
        "        self.node1=node1\n",
        "        self.node2=node2\n",
        "        self.weight=weight"
      ],
      "execution_count": 0,
      "outputs": []
    },
    {
      "cell_type": "markdown",
      "metadata": {
        "colab_type": "text",
        "id": "uVEBIwNFy98h"
      },
      "source": [
        "Since the names of all nodes were integers between zero and the total number of nodes and considering that there wasn't additional information attached to any of the nodes of the graph, we thought that implementing a data structure for the nodes was irrelevant"
      ]
    },
    {
      "cell_type": "markdown",
      "metadata": {
        "colab_type": "text",
        "id": "OoKZipqidJyA"
      },
      "source": [
        "Then we need to define another data structure that given two nodes returns the weight of the edge incident on them if it exist.\n",
        "This class is fundamental in most of the algorithms that will be implemented later on because it will allow to retrieve the weight of the edges in constant time.  \n",
        "\n",
        "Since we need an unique identifier for each edge given two nodes we define a function _get_name()_ that provides one.  \n",
        "More specifically this function given two names(indexes) of the nodes, sorts them by increasing order and concatenates them together forming an unique string.  \n",
        "For example:\n",
        "\n",
        "* a=1 - b=2  --> returns \"1 2\"\n",
        "* a=2 - b=1  --> returns \"1 2\"\n",
        "\n"
      ]
    },
    {
      "cell_type": "code",
      "metadata": {
        "colab_type": "code",
        "id": "l7N5KTkodIna",
        "colab": {}
      },
      "source": [
        "def get_name(a, b):\n",
        "    return str(a) + \" \" + str(b) if a < b else str(b) + \" \" + str(a)\n",
        "\n",
        "class Weights:\n",
        "    def __init__(self):\n",
        "        self.weights = {}\n",
        "\n",
        "    #Given two nodes adds the weight of the edge if not present otherwise does nothing\n",
        "    def add_weight(self, a, b, weight):\n",
        "        name = get_name(a,b)\n",
        "        if name not in self.weights or self.weights[name] > weight:\n",
        "            self.weights[name]=weight\n",
        "            \n",
        "    #Given two nodes returns the weight of the edge\n",
        "    def get_weight(self, a, b):\n",
        "        name = get_name(a,b)\n",
        "        return self.weights[name]"
      ],
      "execution_count": 0,
      "outputs": []
    },
    {
      "cell_type": "markdown",
      "metadata": {
        "colab_type": "text",
        "id": "Dw_h2wvdhne5"
      },
      "source": [
        "Defining a couple of methods that will be useful to create the edge list and adiacence list.  \n",
        "Since the datasets can contain many duplicate edges, before adding an edge to the edge list we check if we already encountered it before.  \n",
        "\n",
        "**IMPORTANT**: As requested, for each edge we keep only the copy with the lower weight."
      ]
    },
    {
      "cell_type": "code",
      "metadata": {
        "colab_type": "code",
        "id": "gzjbajqXgLTl",
        "colab": {}
      },
      "source": [
        "# Adds the edge to the edge list if not present otherwise updates its weight\n",
        "def add_to_edge_list(name, edge, weight, edge_list, position_in_list):\n",
        "    if name not in position_in_list:\n",
        "        edge_list.append(edge)\n",
        "        position_in_list[name] = len(edge_list) - 1\n",
        "    elif name in position_in_list and edge_list[position_in_list[name]].weight > weight:\n",
        "        edge_list[position_in_list[name]].weight = weight\n",
        "\n",
        "# Adds the nodes to the respective adiacence list if not present yet\n",
        "def add_to_adiacence_list(first_vertex, second_vertex, adiacence_list):\n",
        "    if not second_vertex in adiacence_list[first_vertex]:\n",
        "        adiacence_list[first_vertex].append(second_vertex)\n",
        "        adiacence_list[second_vertex].append(first_vertex)"
      ],
      "execution_count": 0,
      "outputs": []
    },
    {
      "cell_type": "markdown",
      "metadata": {
        "colab_type": "text",
        "id": "WcHoNOmCgb7B"
      },
      "source": [
        "Then we define a function that will be used later on, which given a path to a dataset returns:\n",
        "*   The list of the edges\n",
        "*   The adiacence list\n",
        "*   The Weights data structure defined before\n",
        "\n",
        "It's important to notice that the dataset passed as input must have the following data structure\n",
        "\n",
        "\n",
        "```\n",
        "[number_of_nodes] [number_of_edges] \n",
        "[first_node_of_edge_1] [second_node_of_edge_1] [weight_of_edge_1] \n",
        "[first_node_of_edge_2] [second_node_of_edge_2] [weight_of_edge_2] \n",
        "[first_node_of_edge_3] [second_node_of_edge_3] [weight_of_edge_3]\n",
        ".\n",
        ".\n",
        ". \n",
        "```\n",
        "\n",
        "\n",
        "\n"
      ]
    },
    {
      "cell_type": "code",
      "metadata": {
        "colab_type": "code",
        "id": "80v5Bn-RcZZa",
        "colab": {}
      },
      "source": [
        "def import_graph(dataset_path):\n",
        "    dataset_file=open(dataset_path,\"r\")\n",
        "    content=dataset_file.read()\n",
        "    dataset=content.split()\n",
        "\n",
        "    n_nodes=int(dataset.pop(0))\n",
        "    n_edges=int(dataset.pop(0))\n",
        "    edge_list=[]\n",
        "    adiacence_list={}\n",
        "    '''\n",
        "    We need a dictionary position_in_list to check in constant time if we already \n",
        "    encountered a node. Moreover we store its position inside edge_list to update\n",
        "    in constant time its weight if needed.\n",
        "    '''\n",
        "    position_in_list = {}\n",
        "\n",
        "    for i in range(1, n_nodes+1):\n",
        "        adiacence_list[i]=[]\n",
        "\n",
        "    weights = Weights()  \n",
        "    for i in range(0, len(dataset), 3):\n",
        "        first_vertex, second_vertex, weight = int(dataset[i]), int(dataset[i+1]), int(dataset[i+2])\n",
        "        weights.add_weight(first_vertex, second_vertex, weight)\n",
        "        add_to_edge_list(get_name(first_vertex, second_vertex), Edge(first_vertex, second_vertex, weight), weight, edge_list, position_in_list)\n",
        "        add_to_adiacence_list(first_vertex, second_vertex, adiacence_list)\n",
        "\n",
        "    return edge_list, adiacence_list, weights"
      ],
      "execution_count": 0,
      "outputs": []
    },
    {
      "cell_type": "markdown",
      "metadata": {
        "colab_type": "text",
        "id": "BpjYcXlMmOrk"
      },
      "source": [
        "## Implementing the MinHeap Data Structure"
      ]
    },
    {
      "cell_type": "markdown",
      "metadata": {
        "colab_type": "text",
        "id": "Tze1ZArYmqHv"
      },
      "source": [
        "We start by creating an HeapNode data structure which will be used to store all information related to an heap node.  \n",
        "This class more specifically contains two parameters:\n",
        "* **Node**: The actual name(index) of the node\n",
        "* **Weight**: The weights by which the nodes of the heap are sorted"
      ]
    },
    {
      "cell_type": "code",
      "metadata": {
        "colab_type": "code",
        "id": "Nfjw3cSTlaUP",
        "colab": {}
      },
      "source": [
        "class HeapNode:\n",
        "    def __init__(self, node, weight):\n",
        "        self.node=node\n",
        "        self.weight=weight"
      ],
      "execution_count": 0,
      "outputs": []
    },
    {
      "cell_type": "markdown",
      "metadata": {
        "colab_type": "text",
        "id": "8bVSMvfEu-8R"
      },
      "source": [
        "Now we can proceed to define the min-heap data structure that will be used in all of the MST algorithms that will be implemented later on.  \n",
        "The MinHeap class has the following methods:\n",
        "* **__init__**: Given a list of HeapNodes initializes the heap.  Complexity: O(n*log(n))\n",
        "* **left**: Returns the position of the left child of a node. Complexity:O(1)\n",
        "* **right**: Returns the position of the right child of a node. Complexity:O(1)\n",
        "* **parent**: Returns the position of the father of a node. Complexity: O(1)\n",
        "* **min_heapify**: Given the root of a binary tree, if both the left and right subtrees of the root are min heap data structures this method converts the entire tree to a min heap. Complexity:O(log(n))\n",
        "* **insert**: Adds a new node to the heap data structure. Complexity:O(log(n))\n",
        "* **delete**: Deletes an element from the list and returns it. Complexity:O(log(n))\n",
        "* **modify**: Modifies the weight value of a node and restores the properties of the min-heap tree. Complexity:O(log(n))\n",
        "* **correct**: Checks the correctness of the heap. Complexity:O(n)\n",
        "* **extact_min**: Deletes and returns from the heap the node with the minimum weight value. Complexity:O(log(n))\n",
        "* **contains_node**: Checks if a node is contained inside the heap. Complexity:O(1)\n",
        "* **empty**: Returns true if the structure is empty. Complexity:O(1)\n",
        "* **get_key**: Returns the key of a node given its name. Complexity:O(1)\n",
        "* **min_heapify_up**: Does the inverse process of the _min_heapify()_ method. While _min_heapify()_ makes a node descend the tree, the _min_heapify_up()_ makes it ascend. It's used only inside the _modify()_ method when the weight is lower than the previous. Complexity:O(log(n)).\n"
      ]
    },
    {
      "cell_type": "code",
      "metadata": {
        "colab_type": "code",
        "id": "HXMDZyPyB0BO",
        "colab": {}
      },
      "source": [
        "class MinHeap:\n",
        "    def __init__(self, list_of_nodes):\n",
        "        self.positions = {}\n",
        "        self.nodes = list_of_nodes\n",
        "        self.heap_size = len(list_of_nodes)\n",
        "        self.nodes.insert(0, math.inf)\n",
        "        for i in range(1, len(self.nodes)):\n",
        "            self.positions[self.nodes[i].node] = i\n",
        "        for i in range(int(self.heap_size/2), 0, -1):\n",
        "            self.min_heapify(i)\n",
        "\n",
        "    def left(self,i):\n",
        "        return 2*i\n",
        "\n",
        "    def right(self,i):\n",
        "        return 2*i+1\n",
        "\n",
        "    def parent(self,i):\n",
        "        return int(i/2)\n",
        "\n",
        "    def min_heapify(self, i):\n",
        "        if self.heap_size < 2:\n",
        "            return\n",
        "        while i <= int(self.heap_size)/2:\n",
        "            l, r = self.left(i), self.right(i)\n",
        "            # Checking the minimum between the root and it's two childrens\n",
        "            minimum = l if l <= self.heap_size and self.nodes[l].weight < self.nodes[i].weight else i\n",
        "            if r <= self.heap_size and self.nodes[r].weight < self.nodes[minimum].weight:\n",
        "                minimum = r\n",
        "            if minimum == i: # if it's the minimum interrupt the execution\n",
        "                break\n",
        "\n",
        "            temp = self.nodes[i]\n",
        "\n",
        "            self.nodes[i] = self.nodes[minimum]\n",
        "            self.positions[self.nodes[i].node] = i\n",
        "\n",
        "            self.nodes[minimum] = temp\n",
        "            self.positions[self.nodes[minimum].node] = minimum\n",
        "\n",
        "            i = minimum\n",
        "\n",
        "    def insert(self, heap_node):\n",
        "        self.heap_size += 1\n",
        "        i = self.heap_size\n",
        "        self.positions[heap_node.node] = i\n",
        "        self.nodes.append(heap_node)\n",
        "        self.min_heapify_up(i)\n",
        "\n",
        "    def delete(self, node_name):\n",
        "        pos = self.positions[node_name]\n",
        "        deleted_node = self.nodes[pos] \n",
        "        self.nodes[pos] = self.nodes[self.heap_size]\n",
        "        self.positions[self.nodes[pos].node] = pos\n",
        "        del self.nodes[self.heap_size]\n",
        "        del self.positions[node_name]\n",
        "        self.heap_size -= 1\n",
        "        self.min_heapify(pos)\n",
        "        return deleted_node\n",
        "\n",
        "    def modify(self, heap_node):\n",
        "        i = self.positions[heap_node.node]\n",
        "        p = self.parent(i)\n",
        "        self.nodes[i].weight = heap_node.weight\n",
        "        if p > 0 and self.nodes[p].weight > heap_node.weight:\n",
        "            self.min_heapify_up(i)\n",
        "        else:\n",
        "            self.min_heapify(i)\n",
        "\n",
        "    def correct(self):\n",
        "        for i in range(1, int(self.heap_size/2)):\n",
        "            l = self.left(i)\n",
        "            r = self.right(i)\n",
        "            act_weight = self.nodes[i].weight\n",
        "            if act_weight > self.nodes[l].weight or (r > self.heap_size and self.nodes[r].weight != math.inf) or (r <= self.heap_size and self.nodes[r].weight < act_weight):\n",
        "                return False\n",
        "        return True\n",
        "\n",
        "    def extract_min(self):\n",
        "        return self.delete(self.nodes[1].node)\n",
        "\n",
        "    def contains_node(self, name):\n",
        "        return name in self.positions\n",
        "\n",
        "    def empty(self):\n",
        "        return self.heap_size == 0\n",
        "\n",
        "    def get_key(self, node):\n",
        "        return self.nodes[self.positions[node]].weight\n",
        "\n",
        "    def min_heapify_up(self, i):\n",
        "        if i < 2:\n",
        "            return\n",
        "        act = self.nodes[i]\n",
        "        p = self.parent(i)\n",
        "        while p > 0 and self.nodes[p].weight > self.nodes[i].weight:\n",
        "            temp = self.nodes[i]\n",
        "\n",
        "            self.nodes[i] = self.nodes[p]\n",
        "            self.positions[self.nodes[i].node] = i\n",
        "\n",
        "            self.nodes[p] = temp\n",
        "            self.positions[self.nodes[p].node] = p\n",
        "            i = p\n",
        "            p = self.parent(i)"
      ],
      "execution_count": 0,
      "outputs": []
    },
    {
      "cell_type": "markdown",
      "metadata": {
        "colab_type": "text",
        "id": "T9FO2P0VyjDx"
      },
      "source": [
        "## Implementing the UnionFind data structure"
      ]
    },
    {
      "cell_type": "markdown",
      "metadata": {
        "colab_type": "text",
        "id": "AHGMkVM4jLAZ"
      },
      "source": [
        "Now we can proceed to define the Union-Find data structure that will be used in one of the Kruskal algorithms that we will implement.\n",
        "The Union-Find class has the following methods:\n",
        "  * **\\_\\_init\\_\\_**: Given the number of nodes initializes the Union-Find data structure by setting each node as its parent. Complexity: O(n)\n",
        "  * **find**: Given a node returns the root of the subtree that contains it. Complexity: O(log(n))\n",
        "  * **union**: Given two nodes merges the smallest tree into the other one. Complexity: O(log(n))"
      ]
    },
    {
      "cell_type": "code",
      "metadata": {
        "colab_type": "code",
        "id": "cmopZ3jgyZn-",
        "colab": {}
      },
      "source": [
        "class UnionFind:\n",
        "    def __init__(self, n_nodes):\n",
        "        self.parents, self.sizes = [math.inf], [0]\n",
        "        for i in range(n_nodes):\n",
        "            self.parents.append(i+1)\n",
        "            self.sizes.append(1)\n",
        "    \n",
        "    def find(self, x):\n",
        "        root = x\n",
        "        while self.parents[root] != root:\n",
        "            root = self.parents[root]\n",
        "        return root\n",
        "\n",
        "    def union(self, x, y):\n",
        "        i, j = self.find(x), self.find(y)\n",
        "        if i != j:\n",
        "            if self.sizes[i] >= self.sizes[j]:\n",
        "                self.parents[j] = i\n",
        "                self.sizes[i] += self.sizes[j]\n",
        "            else:\n",
        "                self.parents[i] = j\n",
        "                self.sizes[j] += self.sizes[i]"
      ],
      "execution_count": 0,
      "outputs": []
    },
    {
      "cell_type": "markdown",
      "metadata": {
        "colab_type": "text",
        "id": "dip30r1izI-y"
      },
      "source": [
        "# Implementing the MST Algorithms"
      ]
    },
    {
      "cell_type": "markdown",
      "metadata": {
        "colab_type": "text",
        "id": "SH2GYCO6ybV6"
      },
      "source": [
        "## Implementing the Prim algorithm"
      ]
    },
    {
      "cell_type": "markdown",
      "metadata": {
        "colab_type": "text",
        "id": "RZeVdKIL0pGm"
      },
      "source": [
        "The Prim algorithm gives a first implementation of the generic MST that we described above.  \n",
        "In particular it grows a MST starting from a vertex given as input and repeteadly adding a safe edge at each iteration until there isn't an edge with one vertex belonging to the MST and the other one not.  \n",
        "Complexity of the algorithm: O(m*log(n))"
      ]
    },
    {
      "cell_type": "code",
      "metadata": {
        "colab_type": "code",
        "id": "Pndx6vUsWLR6",
        "colab": {}
      },
      "source": [
        "def prim(starting_node, edge_list, adiacence_list, weights):\n",
        "    start, parents, heap_nodes, n_nodes = time.time(), {}, [], len(adiacence_list)\n",
        "    # O(n)\n",
        "    for i in range(1,n_nodes+1):\n",
        "        heap_nodes.append(HeapNode(i,math.inf)) # O(1)\n",
        "\n",
        "    heap_nodes[starting_node].weight = 0 # O(1)\n",
        "    Q = MinHeap(heap_nodes)  # O(nlogn)\n",
        "    # O(n)\n",
        "    while not Q.empty():\n",
        "        u = Q.extract_min().node # O(logn)\n",
        "        for v in adiacence_list[u]: # O(m)\n",
        "            w = weights.get_weight(u, v)\n",
        "            if Q.contains_node(v) and w < Q.get_key(v): # O(1)\n",
        "                parents[v] = {\"parent\": u, \"weight\": w } # O(1)\n",
        "                Q.modify(HeapNode(v, w)) # O(2logn)\n",
        "    return parents, time.time() - start"
      ],
      "execution_count": 0,
      "outputs": []
    },
    {
      "cell_type": "markdown",
      "metadata": {
        "colab_type": "text",
        "id": "UZSpFu_U1ceR"
      },
      "source": [
        "## Implementing both versions of the Kruskal algorithm"
      ]
    },
    {
      "cell_type": "markdown",
      "metadata": {
        "colab_type": "text",
        "id": "bJt3cyQtC6b4"
      },
      "source": [
        "Alternative MST algorithms which are also based on the generic MST algorithm described above.  \n",
        "This algorithms are based on the idea of iterating trough the edges of a graph in non decreasing order of cost.  \n",
        "At each iteration we add the edge to the MST set only if it doesn't create a cycle by doing so.  "
      ]
    },
    {
      "cell_type": "markdown",
      "metadata": {
        "colab_type": "text",
        "id": "XtySMpRZ0d3p"
      },
      "source": [
        "Both versions of the Kruskal algorithm require a sorting algorithm with asintotical complexity of O(n*log(n)).  \n",
        "Then we decided to take advantage of the heap data structure we implemented before by defining the heapsort algorithm.  \n",
        "  \n",
        "More specifically such algorithm takes as input an array of edges, creates a min heap structure with them and then uses the _extract_min()_ method until the heap is empty.  \n",
        "Complexity:O(n*log(n))"
      ]
    },
    {
      "cell_type": "code",
      "metadata": {
        "colab_type": "code",
        "id": "cWzB5KBlzpkh",
        "colab": {}
      },
      "source": [
        "def heap_sort(arr):\n",
        "    edges = [HeapNode(get_name(arr[i].node1, arr[i].node2), arr[i].weight) for i in range(len(arr))] #O(n)\n",
        "    Heap = MinHeap(edges) # O(nlogn)\n",
        "    heap_sorted = []\n",
        "    while not Heap.empty(): # O(n)\n",
        "        m = Heap.extract_min() # O(logn)\n",
        "        nodi = m.node.split() # O(1)\n",
        "        heap_sorted.append(Edge(int(nodi[0]), int(nodi[1]), m.weight)) # O(1)\n",
        "    return heap_sorted"
      ],
      "execution_count": 0,
      "outputs": []
    },
    {
      "cell_type": "markdown",
      "metadata": {
        "colab_type": "text",
        "id": "hs8DhTyMzWs6"
      },
      "source": [
        "### Implementing the Kruskal Naive algorithm"
      ]
    },
    {
      "cell_type": "markdown",
      "metadata": {
        "colab_type": "text",
        "id": "1fzw_HY619ly"
      },
      "source": [
        "The Kruskal Naive algorithm is implemented by using a variation of the DFS (Depth First Search) algorithm to check if a path between two vertexes of an edge already exists inside a set of edges of the MST. If so adding the edge to such set would create a cycle.\n",
        "  \n",
        "We start by implementing basic DFS first.  \n",
        "To improve the performances we made a couple of variations on the standard DFS algorithm seen in class:\n",
        "* We didn't use the label structure because we didn't need it for our application\n",
        "* We stopped the algorithm immediately after finding the opposite node of the edge\n",
        "\n",
        "Complexity: O(m)"
      ]
    },
    {
      "cell_type": "code",
      "metadata": {
        "colab_type": "code",
        "id": "X4nrQSCTzu9H",
        "colab": {}
      },
      "source": [
        "def depth_first_search(v, edge_list, adiacence_list, ID, target):\n",
        "    if target == v:\n",
        "        return True\n",
        "    ID[v] = 1 \n",
        "    if v in adiacence_list:\n",
        "        for w in adiacence_list[v]:\n",
        "            if w not in ID and depth_first_search(w, edge_list, adiacence_list, ID, target):\n",
        "                return True\n",
        "    return False"
      ],
      "execution_count": 0,
      "outputs": []
    },
    {
      "cell_type": "markdown",
      "metadata": {
        "colab_type": "text",
        "id": "ACGpDmoH3LS6"
      },
      "source": [
        "We then use DFS to implement a method which, given a set of edges and two nodes **s** and **t** returns true if a path that connects them exists.  \n",
        "This method has the same complexity of the standard DFS algorithm which is O(m)"
      ]
    },
    {
      "cell_type": "code",
      "metadata": {
        "colab_type": "code",
        "id": "DXVi3MbwzycS",
        "colab": {}
      },
      "source": [
        "def connectivity_dfs(edge_list, adiacence_list, s, t):\n",
        "    return depth_first_search(s, edge_list, adiacence_list, {}, t)"
      ],
      "execution_count": 0,
      "outputs": []
    },
    {
      "cell_type": "markdown",
      "metadata": {
        "colab_type": "text",
        "id": "DD6ziaE84KeR"
      },
      "source": [
        "Now then we have all the tools needed to implement the kruskal naive algorithm.  \n",
        "Complexity: O(m*n)"
      ]
    },
    {
      "cell_type": "code",
      "metadata": {
        "colab_type": "code",
        "id": "TygHRg2vvPkq",
        "colab": {}
      },
      "source": [
        "def kruskal_naive(edge_list, adiacence_list):\n",
        "    start, A, A_adiacence_list = time.time(), [], {}\n",
        "    edges = heap_sort(edge_list) # ordina con heap_sort O(nlogn)\n",
        "    for edge in edges:\n",
        "        # Checks if a path exists between node1 and node2\n",
        "        connected = connectivity_dfs(A, A_adiacence_list, edge.node1, edge.node2) \n",
        "        # If such a path doesn't exist we can safely add the edge to the set\n",
        "        if not connected:\n",
        "            A.append(edge)\n",
        "            n1, n2 = edge.node1, edge.node2\n",
        "            if n1 not in A_adiacence_list:\n",
        "                A_adiacence_list[n1] = []\n",
        "            A_adiacence_list[n1].append(n2)\n",
        "            if n2 not in A_adiacence_list:\n",
        "                A_adiacence_list[n2] = []\n",
        "            A_adiacence_list[n2].append(n1)\n",
        "        #Optimization: The algorithm can stop if we already inserted n-1 edges\n",
        "        #to the set\n",
        "        if len(A) == len(adiacence_list) - 1:\n",
        "            break\n",
        "    return A, time.time() - start"
      ],
      "execution_count": 0,
      "outputs": []
    },
    {
      "cell_type": "markdown",
      "metadata": {
        "colab_type": "text",
        "id": "mm2_uyYRz2O6"
      },
      "source": [
        "### Implementing the Kruskal Union Find Algorithm"
      ]
    },
    {
      "cell_type": "markdown",
      "metadata": {
        "colab_type": "text",
        "id": "6YTLzvAJ4dhs"
      },
      "source": [
        "A more efficient version of the kruskal algorithm can be implemented by using the union find data structure that we implemented before to check if a cycle would be created by inserting an edge to the set of edges of the MST.  \n",
        "Complexity: O(m*log(n))"
      ]
    },
    {
      "cell_type": "code",
      "metadata": {
        "colab_type": "code",
        "id": "iw73QxpWuuZ4",
        "colab": {}
      },
      "source": [
        "def kruskal_union_find(edge_list, n_nodes):\n",
        "    start, A = time.time(), []\n",
        "    edges = heap_sort(edge_list) # ordina con heap_sort O(nlogn)\n",
        "    U = UnionFind(n_nodes)\n",
        "    for edge in edges:\n",
        "        v, w = edge.node1, edge.node2\n",
        "        if U.find(v) != U.find(w):\n",
        "            A.append(edge)\n",
        "            U.union(v, w)\n",
        "    return A, time.time() - start"
      ],
      "execution_count": 0,
      "outputs": []
    },
    {
      "cell_type": "markdown",
      "metadata": {
        "colab_type": "text",
        "id": "Z84yYLLxzAqm"
      },
      "source": [
        "# Running the algorithms on the datasets"
      ]
    },
    {
      "cell_type": "markdown",
      "metadata": {
        "colab_type": "text",
        "id": "NqTQ6tuV5M_W"
      },
      "source": [
        "Now that we have implemented all of the required algorithms we can proceed to run them on the datasets we defined at the start of this notebook.\n",
        "\n",
        "Before though we need to define a couple of methods to simplify the process.  \n",
        "  \n",
        "Firstly we define a method which given a set of edges computes the total cost of the graph."
      ]
    },
    {
      "cell_type": "code",
      "metadata": {
        "colab_type": "code",
        "id": "hJcPW-is6C9V",
        "colab": {}
      },
      "source": [
        "def get_total_tree_weight(edges):\n",
        "    return sum([edge.weight for edge in edges])"
      ],
      "execution_count": 0,
      "outputs": []
    },
    {
      "cell_type": "markdown",
      "metadata": {
        "colab_type": "text",
        "id": "WZ6K0Kuh6Zx4"
      },
      "source": [
        "Then we define a method which given the path to a single dataset returns the MST produced by each of the algorithms defined before and the total time needed to compute it"
      ]
    },
    {
      "cell_type": "code",
      "metadata": {
        "colab_type": "code",
        "id": "tj-FOF166c9z",
        "colab": {}
      },
      "source": [
        "def execute_methods(path, name):\n",
        "    edge_list, adiacence_list, weights = import_graph(path + \"/\" + name)\n",
        "    n_nodes, n_edges = len(adiacence_list), len(edge_list)\n",
        "    random.seed(42)\n",
        "    starting_node = random.randint(1, n_nodes)\n",
        "    \n",
        "    print(\"Executing Prim on dataset : {}\".format(name))\n",
        "    prim_result, prim_time = prim(starting_node, edge_list, adiacence_list, weights)\n",
        "    prim_edges = [Edge(e, prim_result[e][\"parent\"], prim_result[e][\"weight\"]) for e in prim_result]\n",
        "    print(\"Total weight of minimum spanning tree : {}, completed in {} seconds\".format(get_total_tree_weight(prim_edges), prim_time))\n",
        "\n",
        "    print(\"Executing Kruskal Union Find on dataset : {}\".format(name))\n",
        "    kuf_edges, kuf_time = kruskal_union_find(edge_list, len(adiacence_list))\n",
        "    print(\"Total weight of minimum spanning tree : {}, completed in {} seconds\".format(get_total_tree_weight(kuf_edges), kuf_time))\n",
        "    \n",
        "    print(\"Executing Kruskal naive on dataset : {}\".format(name))\n",
        "    kn_edges, kn_time = kruskal_naive(edge_list, adiacence_list)\n",
        "    print(\"Total weight of minimum spanning tree : {}, completed in {} seconds\".format(get_total_tree_weight(kn_edges), kn_time))\n",
        "\n",
        "    return {\n",
        "        \"prim\" : [prim_edges, prim_time],\n",
        "        \"kuf\": [kuf_edges, kuf_time],\n",
        "        \"kn\": [kn_edges, kn_time]\n",
        "    }"
      ],
      "execution_count": 0,
      "outputs": []
    },
    {
      "cell_type": "markdown",
      "metadata": {
        "colab_type": "text",
        "id": "AtpmA1lH7A1b"
      },
      "source": [
        "Finally we define a method which executes the algorithms on all the datasets provided and gathers all the data produced"
      ]
    },
    {
      "cell_type": "code",
      "metadata": {
        "colab_type": "code",
        "id": "DmxPwx_W-DPG",
        "colab": {}
      },
      "source": [
        "def execute_all(path):\n",
        "    prim_times, kuf_times, kn_times = {}, {},{}\n",
        "    files = os.listdir(path)\n",
        "    for f in files:\n",
        "        r = execute_methods(path, f)\n",
        "        num_nodes = len(r[\"prim\"][0]) + 1\n",
        "        if num_nodes not in prim_times:\n",
        "            prim_times[num_nodes] = []\n",
        "            kuf_times[num_nodes] = []\n",
        "            kn_times[num_nodes]=[]\n",
        "        prim_times[num_nodes].append(r[\"prim\"][1])\n",
        "        kuf_times[num_nodes].append(r[\"kuf\"][1])\n",
        "        kn_times[num_nodes].append(r[\"kn\"][1])\n",
        "        print(\"------------------------------------------------------------------------------------------------------------------------\")\n",
        "        \n",
        "    for i in prim_times:\n",
        "        prim_times[i] = mean(prim_times[i])\n",
        "        kuf_times[i] = mean(kuf_times[i])\n",
        "        kn_times[i] = mean(kn_times[i])\n",
        "\n",
        "    return prim_times, kuf_times, kn_times"
      ],
      "execution_count": 0,
      "outputs": []
    },
    {
      "cell_type": "code",
      "metadata": {
        "colab_type": "code",
        "id": "oJYFTnTdncrq",
        "colab": {},
        "outputId": "ab4f25b1-7f26-4abc-dd5e-d801a537b568"
      },
      "source": [
        "prim_times, kuf_times, kn_times = execute_all(dataset_folder)"
      ],
      "execution_count": 0,
      "outputs": [
        {
          "output_type": "stream",
          "text": [
            "Executing Prim on dataset : input_random_01_10.txt\n",
            "Total weight of minimum spanning tree : 29316, completed in 0.0 seconds\n",
            "Executing Kruskal Union Find on dataset : input_random_01_10.txt\n",
            "Total weight of minimum spanning tree : 29316, completed in 0.0009713172912597656 seconds\n",
            "Executing Kruskal naive on dataset : input_random_01_10.txt\n",
            "Total weight of minimum spanning tree : 29316, completed in 0.0 seconds\n",
            "------------------------------------------------------------------------------------------------------------------------\n",
            "Executing Prim on dataset : input_random_02_10.txt\n",
            "Total weight of minimum spanning tree : 2126, completed in 0.0 seconds\n",
            "Executing Kruskal Union Find on dataset : input_random_02_10.txt\n",
            "Total weight of minimum spanning tree : 2126, completed in 0.0 seconds\n",
            "Executing Kruskal naive on dataset : input_random_02_10.txt\n",
            "Total weight of minimum spanning tree : 2126, completed in 0.0 seconds\n",
            "------------------------------------------------------------------------------------------------------------------------\n",
            "Executing Prim on dataset : input_random_03_10.txt\n",
            "Total weight of minimum spanning tree : -44765, completed in 0.0009970664978027344 seconds\n",
            "Executing Kruskal Union Find on dataset : input_random_03_10.txt\n",
            "Total weight of minimum spanning tree : -44765, completed in 0.0 seconds\n",
            "Executing Kruskal naive on dataset : input_random_03_10.txt\n",
            "Total weight of minimum spanning tree : -44765, completed in 0.0 seconds\n",
            "------------------------------------------------------------------------------------------------------------------------\n",
            "Executing Prim on dataset : input_random_04_10.txt\n",
            "Total weight of minimum spanning tree : 20360, completed in 0.0 seconds\n",
            "Executing Kruskal Union Find on dataset : input_random_04_10.txt\n",
            "Total weight of minimum spanning tree : 20360, completed in 0.0 seconds\n",
            "Executing Kruskal naive on dataset : input_random_04_10.txt\n",
            "Total weight of minimum spanning tree : 20360, completed in 0.0 seconds\n",
            "------------------------------------------------------------------------------------------------------------------------\n",
            "Executing Prim on dataset : input_random_05_20.txt\n",
            "Total weight of minimum spanning tree : -32021, completed in 0.0 seconds\n",
            "Executing Kruskal Union Find on dataset : input_random_05_20.txt\n",
            "Total weight of minimum spanning tree : -32021, completed in 0.0009965896606445312 seconds\n",
            "Executing Kruskal naive on dataset : input_random_05_20.txt\n",
            "Total weight of minimum spanning tree : -32021, completed in 0.0 seconds\n",
            "------------------------------------------------------------------------------------------------------------------------\n",
            "Executing Prim on dataset : input_random_06_20.txt\n",
            "Total weight of minimum spanning tree : 18596, completed in 0.0 seconds\n",
            "Executing Kruskal Union Find on dataset : input_random_06_20.txt\n",
            "Total weight of minimum spanning tree : 18596, completed in 0.0009691715240478516 seconds\n",
            "Executing Kruskal naive on dataset : input_random_06_20.txt\n",
            "Total weight of minimum spanning tree : 18596, completed in 0.0 seconds\n",
            "------------------------------------------------------------------------------------------------------------------------\n",
            "Executing Prim on dataset : input_random_07_20.txt\n",
            "Total weight of minimum spanning tree : -42560, completed in 0.0 seconds\n",
            "Executing Kruskal Union Find on dataset : input_random_07_20.txt\n",
            "Total weight of minimum spanning tree : -42560, completed in 0.0 seconds\n",
            "Executing Kruskal naive on dataset : input_random_07_20.txt\n",
            "Total weight of minimum spanning tree : -42560, completed in 0.0009658336639404297 seconds\n",
            "------------------------------------------------------------------------------------------------------------------------\n",
            "Executing Prim on dataset : input_random_08_20.txt\n",
            "Total weight of minimum spanning tree : -37205, completed in 0.0 seconds\n",
            "Executing Kruskal Union Find on dataset : input_random_08_20.txt\n",
            "Total weight of minimum spanning tree : -37205, completed in 0.000997781753540039 seconds\n",
            "Executing Kruskal naive on dataset : input_random_08_20.txt\n",
            "Total weight of minimum spanning tree : -37205, completed in 0.0 seconds\n",
            "------------------------------------------------------------------------------------------------------------------------\n",
            "Executing Prim on dataset : input_random_09_40.txt\n",
            "Total weight of minimum spanning tree : -122078, completed in 0.001004934310913086 seconds\n",
            "Executing Kruskal Union Find on dataset : input_random_09_40.txt\n",
            "Total weight of minimum spanning tree : -122078, completed in 0.0 seconds\n",
            "Executing Kruskal naive on dataset : input_random_09_40.txt\n",
            "Total weight of minimum spanning tree : -122078, completed in 0.0009925365447998047 seconds\n",
            "------------------------------------------------------------------------------------------------------------------------\n",
            "Executing Prim on dataset : input_random_10_40.txt\n",
            "Total weight of minimum spanning tree : -37021, completed in 0.0009729862213134766 seconds\n",
            "Executing Kruskal Union Find on dataset : input_random_10_40.txt\n",
            "Total weight of minimum spanning tree : -37021, completed in 0.0 seconds\n",
            "Executing Kruskal naive on dataset : input_random_10_40.txt\n",
            "Total weight of minimum spanning tree : -37021, completed in 0.0010173320770263672 seconds\n",
            "------------------------------------------------------------------------------------------------------------------------\n",
            "Executing Prim on dataset : input_random_11_40.txt\n",
            "Total weight of minimum spanning tree : -79570, completed in 0.0 seconds\n",
            "Executing Kruskal Union Find on dataset : input_random_11_40.txt\n",
            "Total weight of minimum spanning tree : -79570, completed in 0.0 seconds\n",
            "Executing Kruskal naive on dataset : input_random_11_40.txt\n",
            "Total weight of minimum spanning tree : -79570, completed in 0.000997304916381836 seconds\n",
            "------------------------------------------------------------------------------------------------------------------------\n",
            "Executing Prim on dataset : input_random_12_40.txt\n",
            "Total weight of minimum spanning tree : -79741, completed in 0.0010044574737548828 seconds\n",
            "Executing Kruskal Union Find on dataset : input_random_12_40.txt\n",
            "Total weight of minimum spanning tree : -79741, completed in 0.0 seconds\n",
            "Executing Kruskal naive on dataset : input_random_12_40.txt\n",
            "Total weight of minimum spanning tree : -79741, completed in 0.0009655952453613281 seconds\n",
            "------------------------------------------------------------------------------------------------------------------------\n",
            "Executing Prim on dataset : input_random_13_80.txt\n",
            "Total weight of minimum spanning tree : -139926, completed in 0.0009982585906982422 seconds\n",
            "Executing Kruskal Union Find on dataset : input_random_13_80.txt\n",
            "Total weight of minimum spanning tree : -139926, completed in 0.0009946823120117188 seconds\n",
            "Executing Kruskal naive on dataset : input_random_13_80.txt\n",
            "Total weight of minimum spanning tree : -139926, completed in 0.0019969940185546875 seconds\n",
            "------------------------------------------------------------------------------------------------------------------------\n",
            "Executing Prim on dataset : input_random_14_80.txt\n",
            "Total weight of minimum spanning tree : -211345, completed in 0.0010004043579101562 seconds\n",
            "Executing Kruskal Union Find on dataset : input_random_14_80.txt\n",
            "Total weight of minimum spanning tree : -211345, completed in 0.0009968280792236328 seconds\n",
            "Executing Kruskal naive on dataset : input_random_14_80.txt\n",
            "Total weight of minimum spanning tree : -211345, completed in 0.022406578063964844 seconds\n",
            "------------------------------------------------------------------------------------------------------------------------\n",
            "Executing Prim on dataset : input_random_15_80.txt\n",
            "Total weight of minimum spanning tree : -110571, completed in 0.0009953975677490234 seconds\n",
            "Executing Kruskal Union Find on dataset : input_random_15_80.txt\n",
            "Total weight of minimum spanning tree : -110571, completed in 0.00098419189453125 seconds\n",
            "Executing Kruskal naive on dataset : input_random_15_80.txt\n",
            "Total weight of minimum spanning tree : -110571, completed in 0.002026796340942383 seconds\n",
            "------------------------------------------------------------------------------------------------------------------------\n",
            "Executing Prim on dataset : input_random_16_80.txt\n",
            "Total weight of minimum spanning tree : -233320, completed in 0.0010001659393310547 seconds\n",
            "Executing Kruskal Union Find on dataset : input_random_16_80.txt\n",
            "Total weight of minimum spanning tree : -233320, completed in 0.0019941329956054688 seconds\n",
            "Executing Kruskal naive on dataset : input_random_16_80.txt\n",
            "Total weight of minimum spanning tree : -233320, completed in 0.0019943714141845703 seconds\n",
            "------------------------------------------------------------------------------------------------------------------------\n",
            "Executing Prim on dataset : input_random_17_100.txt\n",
            "Total weight of minimum spanning tree : -141960, completed in 0.002992391586303711 seconds\n",
            "Executing Kruskal Union Find on dataset : input_random_17_100.txt\n",
            "Total weight of minimum spanning tree : -141960, completed in 0.0009889602661132812 seconds\n",
            "Executing Kruskal naive on dataset : input_random_17_100.txt\n",
            "Total weight of minimum spanning tree : -141960, completed in 0.0029914379119873047 seconds\n",
            "------------------------------------------------------------------------------------------------------------------------\n",
            "Executing Prim on dataset : input_random_18_100.txt\n",
            "Total weight of minimum spanning tree : -271743, completed in 0.001993894577026367 seconds\n",
            "Executing Kruskal Union Find on dataset : input_random_18_100.txt\n",
            "Total weight of minimum spanning tree : -271743, completed in 0.001993417739868164 seconds\n",
            "Executing Kruskal naive on dataset : input_random_18_100.txt\n",
            "Total weight of minimum spanning tree : -271743, completed in 0.001995086669921875 seconds\n",
            "------------------------------------------------------------------------------------------------------------------------\n",
            "Executing Prim on dataset : input_random_19_100.txt\n",
            "Total weight of minimum spanning tree : -288906, completed in 0.0015687942504882812 seconds\n",
            "Executing Kruskal Union Find on dataset : input_random_19_100.txt\n",
            "Total weight of minimum spanning tree : -288906, completed in 0.0 seconds\n",
            "Executing Kruskal naive on dataset : input_random_19_100.txt\n",
            "Total weight of minimum spanning tree : -288906, completed in 0.0 seconds\n",
            "------------------------------------------------------------------------------------------------------------------------\n",
            "Executing Prim on dataset : input_random_20_100.txt\n",
            "Total weight of minimum spanning tree : -232178, completed in 0.001024007797241211 seconds\n",
            "Executing Kruskal Union Find on dataset : input_random_20_100.txt\n",
            "Total weight of minimum spanning tree : -232178, completed in 0.0019948482513427734 seconds\n",
            "Executing Kruskal naive on dataset : input_random_20_100.txt\n",
            "Total weight of minimum spanning tree : -232178, completed in 0.0019903182983398438 seconds\n",
            "------------------------------------------------------------------------------------------------------------------------\n",
            "Executing Prim on dataset : input_random_21_200.txt\n",
            "Total weight of minimum spanning tree : -510185, completed in 0.0029921531677246094 seconds\n",
            "Executing Kruskal Union Find on dataset : input_random_21_200.txt\n",
            "Total weight of minimum spanning tree : -510185, completed in 0.00399017333984375 seconds\n",
            "Executing Kruskal naive on dataset : input_random_21_200.txt\n",
            "Total weight of minimum spanning tree : -510185, completed in 0.006979942321777344 seconds\n",
            "------------------------------------------------------------------------------------------------------------------------\n",
            "Executing Prim on dataset : input_random_22_200.txt\n",
            "Total weight of minimum spanning tree : -515136, completed in 0.004019260406494141 seconds\n",
            "Executing Kruskal Union Find on dataset : input_random_22_200.txt\n",
            "Total weight of minimum spanning tree : -515136, completed in 0.0029914379119873047 seconds\n",
            "Executing Kruskal naive on dataset : input_random_22_200.txt\n",
            "Total weight of minimum spanning tree : -515136, completed in 0.0069506168365478516 seconds\n",
            "------------------------------------------------------------------------------------------------------------------------\n",
            "Executing Prim on dataset : input_random_23_200.txt\n",
            "Total weight of minimum spanning tree : -444357, completed in 0.0029914379119873047 seconds\n",
            "Executing Kruskal Union Find on dataset : input_random_23_200.txt\n",
            "Total weight of minimum spanning tree : -444357, completed in 0.003988504409790039 seconds\n",
            "Executing Kruskal naive on dataset : input_random_23_200.txt\n",
            "Total weight of minimum spanning tree : -444357, completed in 0.007071495056152344 seconds\n",
            "------------------------------------------------------------------------------------------------------------------------\n",
            "Executing Prim on dataset : input_random_24_200.txt\n",
            "Total weight of minimum spanning tree : -393278, completed in 0.002991914749145508 seconds\n",
            "Executing Kruskal Union Find on dataset : input_random_24_200.txt\n",
            "Total weight of minimum spanning tree : -393278, completed in 0.0039899349212646484 seconds\n",
            "Executing Kruskal naive on dataset : input_random_24_200.txt\n",
            "Total weight of minimum spanning tree : -393278, completed in 0.009943485260009766 seconds\n",
            "------------------------------------------------------------------------------------------------------------------------\n",
            "Executing Prim on dataset : input_random_25_400.txt\n",
            "Total weight of minimum spanning tree : -1122919, completed in 0.009972333908081055 seconds\n",
            "Executing Kruskal Union Find on dataset : input_random_25_400.txt\n",
            "Total weight of minimum spanning tree : -1122919, completed in 0.008959770202636719 seconds\n",
            "Executing Kruskal naive on dataset : input_random_25_400.txt\n",
            "Total weight of minimum spanning tree : -1122919, completed in 0.02593398094177246 seconds\n",
            "------------------------------------------------------------------------------------------------------------------------\n",
            "Executing Prim on dataset : input_random_26_400.txt\n",
            "Total weight of minimum spanning tree : -788168, completed in 0.00997304916381836 seconds\n",
            "Executing Kruskal Union Find on dataset : input_random_26_400.txt\n",
            "Total weight of minimum spanning tree : -788168, completed in 0.00894618034362793 seconds\n",
            "Executing Kruskal naive on dataset : input_random_26_400.txt\n",
            "Total weight of minimum spanning tree : -788168, completed in 0.020975112915039062 seconds\n",
            "------------------------------------------------------------------------------------------------------------------------\n",
            "Executing Prim on dataset : input_random_27_400.txt\n",
            "Total weight of minimum spanning tree : -895704, completed in 0.008965492248535156 seconds\n",
            "Executing Kruskal Union Find on dataset : input_random_27_400.txt\n",
            "Total weight of minimum spanning tree : -895704, completed in 0.008979320526123047 seconds\n",
            "Executing Kruskal naive on dataset : input_random_27_400.txt\n",
            "Total weight of minimum spanning tree : -895704, completed in 0.02393651008605957 seconds\n",
            "------------------------------------------------------------------------------------------------------------------------\n",
            "Executing Prim on dataset : input_random_28_400.txt\n",
            "Total weight of minimum spanning tree : -733645, completed in 0.00994420051574707 seconds\n",
            "Executing Kruskal Union Find on dataset : input_random_28_400.txt\n",
            "Total weight of minimum spanning tree : -733645, completed in 0.009976387023925781 seconds\n",
            "Executing Kruskal naive on dataset : input_random_28_400.txt\n",
            "Total weight of minimum spanning tree : -733645, completed in 0.02195882797241211 seconds\n",
            "------------------------------------------------------------------------------------------------------------------------\n",
            "Executing Prim on dataset : input_random_29_800.txt\n",
            "Total weight of minimum spanning tree : -1541291, completed in 0.01792168617248535 seconds\n",
            "Executing Kruskal Union Find on dataset : input_random_29_800.txt\n",
            "Total weight of minimum spanning tree : -1541291, completed in 0.015987396240234375 seconds\n",
            "Executing Kruskal naive on dataset : input_random_29_800.txt\n",
            "Total weight of minimum spanning tree : -1541291, completed in 0.047708988189697266 seconds\n",
            "------------------------------------------------------------------------------------------------------------------------\n",
            "Executing Prim on dataset : input_random_30_800.txt\n",
            "Total weight of minimum spanning tree : -1578294, completed in 0.015654325485229492 seconds\n",
            "Executing Kruskal Union Find on dataset : input_random_30_800.txt\n",
            "Total weight of minimum spanning tree : -1578294, completed in 0.015619993209838867 seconds\n",
            "Executing Kruskal naive on dataset : input_random_30_800.txt\n",
            "Total weight of minimum spanning tree : -1578294, completed in 0.07379150390625 seconds\n",
            "------------------------------------------------------------------------------------------------------------------------\n",
            "Executing Prim on dataset : input_random_31_800.txt\n",
            "Total weight of minimum spanning tree : -1675534, completed in 0.020972728729248047 seconds\n",
            "Executing Kruskal Union Find on dataset : input_random_31_800.txt\n",
            "Total weight of minimum spanning tree : -1675534, completed in 0.01795196533203125 seconds\n",
            "Executing Kruskal naive on dataset : input_random_31_800.txt\n",
            "Total weight of minimum spanning tree : -1675534, completed in 0.06183433532714844 seconds\n",
            "------------------------------------------------------------------------------------------------------------------------\n",
            "Executing Prim on dataset : input_random_32_800.txt\n",
            "Total weight of minimum spanning tree : -1652119, completed in 0.011539936065673828 seconds\n",
            "Executing Kruskal Union Find on dataset : input_random_32_800.txt\n",
            "Total weight of minimum spanning tree : -1652119, completed in 0.015624284744262695 seconds\n",
            "Executing Kruskal naive on dataset : input_random_32_800.txt\n",
            "Total weight of minimum spanning tree : -1652119, completed in 0.0881800651550293 seconds\n",
            "------------------------------------------------------------------------------------------------------------------------\n",
            "Executing Prim on dataset : input_random_33_1000.txt\n",
            "Total weight of minimum spanning tree : -2091110, completed in 0.026903390884399414 seconds\n",
            "Executing Kruskal Union Find on dataset : input_random_33_1000.txt\n",
            "Total weight of minimum spanning tree : -2091110, completed in 0.025919198989868164 seconds\n",
            "Executing Kruskal naive on dataset : input_random_33_1000.txt\n",
            "Total weight of minimum spanning tree : -2091110, completed in 0.10675048828125 seconds\n",
            "------------------------------------------------------------------------------------------------------------------------\n",
            "Executing Prim on dataset : input_random_34_1000.txt\n",
            "Total weight of minimum spanning tree : -1934208, completed in 0.021920204162597656 seconds\n",
            "Executing Kruskal Union Find on dataset : input_random_34_1000.txt\n",
            "Total weight of minimum spanning tree : -1934208, completed in 0.015652179718017578 seconds\n",
            "Executing Kruskal naive on dataset : input_random_34_1000.txt\n",
            "Total weight of minimum spanning tree : -1934208, completed in 0.09980273246765137 seconds\n",
            "------------------------------------------------------------------------------------------------------------------------\n",
            "Executing Prim on dataset : input_random_35_1000.txt\n",
            "Total weight of minimum spanning tree : -2229428, completed in 0.031231164932250977 seconds\n",
            "Executing Kruskal Union Find on dataset : input_random_35_1000.txt\n",
            "Total weight of minimum spanning tree : -2229428, completed in 0.015619993209838867 seconds\n",
            "Executing Kruskal naive on dataset : input_random_35_1000.txt\n",
            "Total weight of minimum spanning tree : -2229428, completed in 0.13069748878479004 seconds\n",
            "------------------------------------------------------------------------------------------------------------------------\n",
            "Executing Prim on dataset : input_random_36_1000.txt\n",
            "Total weight of minimum spanning tree : -2359192, completed in 0.025922298431396484 seconds\n",
            "Executing Kruskal Union Find on dataset : input_random_36_1000.txt\n",
            "Total weight of minimum spanning tree : -2359192, completed in 0.027936697006225586 seconds\n",
            "Executing Kruskal naive on dataset : input_random_36_1000.txt\n",
            "Total weight of minimum spanning tree : -2359192, completed in 0.16054558753967285 seconds\n",
            "------------------------------------------------------------------------------------------------------------------------\n",
            "Executing Prim on dataset : input_random_37_2000.txt\n",
            "Total weight of minimum spanning tree : -4811598, completed in 0.044141530990600586 seconds\n",
            "Executing Kruskal Union Find on dataset : input_random_37_2000.txt\n",
            "Total weight of minimum spanning tree : -4811598, completed in 0.06033492088317871 seconds\n",
            "Executing Kruskal naive on dataset : input_random_37_2000.txt\n",
            "Total weight of minimum spanning tree : -4811598, completed in 0.41298675537109375 seconds\n",
            "------------------------------------------------------------------------------------------------------------------------\n",
            "Executing Prim on dataset : input_random_38_2000.txt\n",
            "Total weight of minimum spanning tree : -4739387, completed in 0.06582427024841309 seconds\n",
            "Executing Kruskal Union Find on dataset : input_random_38_2000.txt\n",
            "Total weight of minimum spanning tree : -4739387, completed in 0.0608370304107666 seconds\n",
            "Executing Kruskal naive on dataset : input_random_38_2000.txt\n",
            "Total weight of minimum spanning tree : -4739387, completed in 0.41096019744873047 seconds\n",
            "------------------------------------------------------------------------------------------------------------------------\n",
            "Executing Prim on dataset : input_random_39_2000.txt\n",
            "Total weight of minimum spanning tree : -4717250, completed in 0.0624847412109375 seconds\n",
            "Executing Kruskal Union Find on dataset : input_random_39_2000.txt\n",
            "Total weight of minimum spanning tree : -4717250, completed in 0.05356097221374512 seconds\n",
            "Executing Kruskal naive on dataset : input_random_39_2000.txt\n",
            "Total weight of minimum spanning tree : -4717250, completed in 0.3862311840057373 seconds\n",
            "------------------------------------------------------------------------------------------------------------------------\n",
            "Executing Prim on dataset : input_random_40_2000.txt\n",
            "Total weight of minimum spanning tree : -4537267, completed in 0.05036187171936035 seconds\n",
            "Executing Kruskal Union Find on dataset : input_random_40_2000.txt\n",
            "Total weight of minimum spanning tree : -4537267, completed in 0.04686427116394043 seconds\n",
            "Executing Kruskal naive on dataset : input_random_40_2000.txt\n",
            "Total weight of minimum spanning tree : -4537267, completed in 0.39527273178100586 seconds\n",
            "------------------------------------------------------------------------------------------------------------------------\n",
            "Executing Prim on dataset : input_random_41_4000.txt\n",
            "Total weight of minimum spanning tree : -8722212, completed in 0.10934758186340332 seconds\n",
            "Executing Kruskal Union Find on dataset : input_random_41_4000.txt\n",
            "Total weight of minimum spanning tree : -8722212, completed in 0.09372830390930176 seconds\n",
            "Executing Kruskal naive on dataset : input_random_41_4000.txt\n",
            "Total weight of minimum spanning tree : -8722212, completed in 1.5458409786224365 seconds\n",
            "------------------------------------------------------------------------------------------------------------------------\n",
            "Executing Prim on dataset : input_random_42_4000.txt\n",
            "Total weight of minimum spanning tree : -9314968, completed in 0.10934567451477051 seconds\n",
            "Executing Kruskal Union Find on dataset : input_random_42_4000.txt\n",
            "Total weight of minimum spanning tree : -9314968, completed in 0.1175987720489502 seconds\n",
            "Executing Kruskal naive on dataset : input_random_42_4000.txt\n",
            "Total weight of minimum spanning tree : -9314968, completed in 1.5450096130371094 seconds\n",
            "------------------------------------------------------------------------------------------------------------------------\n",
            "Executing Prim on dataset : input_random_43_4000.txt\n",
            "Total weight of minimum spanning tree : -9845767, completed in 0.12947678565979004 seconds\n",
            "Executing Kruskal Union Find on dataset : input_random_43_4000.txt\n",
            "Total weight of minimum spanning tree : -9845767, completed in 0.12257099151611328 seconds\n",
            "Executing Kruskal naive on dataset : input_random_43_4000.txt\n",
            "Total weight of minimum spanning tree : -9845767, completed in 1.4133358001708984 seconds\n",
            "------------------------------------------------------------------------------------------------------------------------\n",
            "Executing Prim on dataset : input_random_44_4000.txt\n",
            "Total weight of minimum spanning tree : -8681447, completed in 0.10938000679016113 seconds\n",
            "Executing Kruskal Union Find on dataset : input_random_44_4000.txt\n",
            "Total weight of minimum spanning tree : -8681447, completed in 0.13565874099731445 seconds\n",
            "Executing Kruskal naive on dataset : input_random_44_4000.txt\n",
            "Total weight of minimum spanning tree : -8681447, completed in 1.6827056407928467 seconds\n",
            "------------------------------------------------------------------------------------------------------------------------\n",
            "Executing Prim on dataset : input_random_45_8000.txt\n",
            "Total weight of minimum spanning tree : -17844628, completed in 0.2738513946533203 seconds\n",
            "Executing Kruskal Union Find on dataset : input_random_45_8000.txt\n",
            "Total weight of minimum spanning tree : -17844628, completed in 0.257404088973999 seconds\n",
            "Executing Kruskal naive on dataset : input_random_45_8000.txt\n",
            "Total weight of minimum spanning tree : -17844628, completed in 6.405649185180664 seconds\n",
            "------------------------------------------------------------------------------------------------------------------------\n",
            "Executing Prim on dataset : input_random_46_8000.txt\n",
            "Total weight of minimum spanning tree : -18800966, completed in 0.24681901931762695 seconds\n",
            "Executing Kruskal Union Find on dataset : input_random_46_8000.txt\n",
            "Total weight of minimum spanning tree : -18800966, completed in 0.2672891616821289 seconds\n",
            "Executing Kruskal naive on dataset : input_random_46_8000.txt\n",
            "Total weight of minimum spanning tree : -18800966, completed in 5.547444105148315 seconds\n",
            "------------------------------------------------------------------------------------------------------------------------\n",
            "Executing Prim on dataset : input_random_47_8000.txt\n",
            "Total weight of minimum spanning tree : -18741474, completed in 0.22902560234069824 seconds\n",
            "Executing Kruskal Union Find on dataset : input_random_47_8000.txt\n",
            "Total weight of minimum spanning tree : -18741474, completed in 0.23435139656066895 seconds\n",
            "Executing Kruskal naive on dataset : input_random_47_8000.txt\n",
            "Total weight of minimum spanning tree : -18741474, completed in 5.664099931716919 seconds\n",
            "------------------------------------------------------------------------------------------------------------------------\n",
            "Executing Prim on dataset : input_random_48_8000.txt\n",
            "Total weight of minimum spanning tree : -18190442, completed in 0.24509930610656738 seconds\n",
            "Executing Kruskal Union Find on dataset : input_random_48_8000.txt\n",
            "Total weight of minimum spanning tree : -18190442, completed in 0.20306825637817383 seconds\n",
            "Executing Kruskal naive on dataset : input_random_48_8000.txt\n",
            "Total weight of minimum spanning tree : -18190442, completed in 6.387777090072632 seconds\n",
            "------------------------------------------------------------------------------------------------------------------------\n",
            "Executing Prim on dataset : input_random_49_10000.txt\n",
            "Total weight of minimum spanning tree : -22086729, completed in 0.3182506561279297 seconds\n",
            "Executing Kruskal Union Find on dataset : input_random_49_10000.txt\n",
            "Total weight of minimum spanning tree : -22086729, completed in 0.3340747356414795 seconds\n",
            "Executing Kruskal naive on dataset : input_random_49_10000.txt\n",
            "Total weight of minimum spanning tree : -22086729, completed in 10.927491426467896 seconds\n",
            "------------------------------------------------------------------------------------------------------------------------\n",
            "Executing Prim on dataset : input_random_50_10000.txt\n",
            "Total weight of minimum spanning tree : -22338561, completed in 0.33515429496765137 seconds\n",
            "Executing Kruskal Union Find on dataset : input_random_50_10000.txt\n",
            "Total weight of minimum spanning tree : -22338561, completed in 0.38497090339660645 seconds\n",
            "Executing Kruskal naive on dataset : input_random_50_10000.txt\n",
            "Total weight of minimum spanning tree : -22338561, completed in 10.018018960952759 seconds\n",
            "------------------------------------------------------------------------------------------------------------------------\n",
            "Executing Prim on dataset : input_random_51_10000.txt\n",
            "Total weight of minimum spanning tree : -22581384, completed in 0.2983059883117676 seconds\n",
            "Executing Kruskal Union Find on dataset : input_random_51_10000.txt\n",
            "Total weight of minimum spanning tree : -22581384, completed in 0.31154537200927734 seconds\n",
            "Executing Kruskal naive on dataset : input_random_51_10000.txt\n",
            "Total weight of minimum spanning tree : -22581384, completed in 11.650795936584473 seconds\n",
            "------------------------------------------------------------------------------------------------------------------------\n",
            "Executing Prim on dataset : input_random_52_10000.txt\n",
            "Total weight of minimum spanning tree : -22606313, completed in 0.3258683681488037 seconds\n",
            "Executing Kruskal Union Find on dataset : input_random_52_10000.txt\n",
            "Total weight of minimum spanning tree : -22606313, completed in 0.4044477939605713 seconds\n",
            "Executing Kruskal naive on dataset : input_random_52_10000.txt\n",
            "Total weight of minimum spanning tree : -22606313, completed in 10.251394510269165 seconds\n",
            "------------------------------------------------------------------------------------------------------------------------\n",
            "Executing Prim on dataset : input_random_53_20000.txt\n",
            "Total weight of minimum spanning tree : -45978687, completed in 0.6294088363647461 seconds\n",
            "Executing Kruskal Union Find on dataset : input_random_53_20000.txt\n",
            "Total weight of minimum spanning tree : -45978687, completed in 0.7000584602355957 seconds\n",
            "Executing Kruskal naive on dataset : input_random_53_20000.txt\n",
            "Total weight of minimum spanning tree : -45978687, completed in 42.27089500427246 seconds\n",
            "------------------------------------------------------------------------------------------------------------------------\n",
            "Executing Prim on dataset : input_random_54_20000.txt\n",
            "Total weight of minimum spanning tree : -45195405, completed in 0.6176474094390869 seconds\n",
            "Executing Kruskal Union Find on dataset : input_random_54_20000.txt\n",
            "Total weight of minimum spanning tree : -45195405, completed in 0.6039776802062988 seconds\n",
            "Executing Kruskal naive on dataset : input_random_54_20000.txt\n",
            "Total weight of minimum spanning tree : -45195405, completed in 39.05525755882263 seconds\n",
            "------------------------------------------------------------------------------------------------------------------------\n",
            "Executing Prim on dataset : input_random_55_20000.txt\n",
            "Total weight of minimum spanning tree : -47854708, completed in 0.6262288093566895 seconds\n",
            "Executing Kruskal Union Find on dataset : input_random_55_20000.txt\n",
            "Total weight of minimum spanning tree : -47854708, completed in 0.6417691707611084 seconds\n",
            "Executing Kruskal naive on dataset : input_random_55_20000.txt\n",
            "Total weight of minimum spanning tree : -47854708, completed in 40.762943506240845 seconds\n",
            "------------------------------------------------------------------------------------------------------------------------\n",
            "Executing Prim on dataset : input_random_56_20000.txt\n",
            "Total weight of minimum spanning tree : -46420311, completed in 0.6390426158905029 seconds\n",
            "Executing Kruskal Union Find on dataset : input_random_56_20000.txt\n",
            "Total weight of minimum spanning tree : -46420311, completed in 0.6846644878387451 seconds\n",
            "Executing Kruskal naive on dataset : input_random_56_20000.txt\n",
            "Total weight of minimum spanning tree : -46420311, completed in 41.12824606895447 seconds\n",
            "------------------------------------------------------------------------------------------------------------------------\n",
            "Executing Prim on dataset : input_random_57_40000.txt\n",
            "Total weight of minimum spanning tree : -92003321, completed in 1.4006319046020508 seconds\n",
            "Executing Kruskal Union Find on dataset : input_random_57_40000.txt\n",
            "Total weight of minimum spanning tree : -92003321, completed in 1.630573034286499 seconds\n",
            "Executing Kruskal naive on dataset : input_random_57_40000.txt\n",
            "Total weight of minimum spanning tree : -92003321, completed in 275.7363278865814 seconds\n",
            "------------------------------------------------------------------------------------------------------------------------\n",
            "Executing Prim on dataset : input_random_58_40000.txt\n",
            "Total weight of minimum spanning tree : -94397064, completed in 1.5446240901947021 seconds\n",
            "Executing Kruskal Union Find on dataset : input_random_58_40000.txt\n",
            "Total weight of minimum spanning tree : -94397064, completed in 1.574500322341919 seconds\n",
            "Executing Kruskal naive on dataset : input_random_58_40000.txt\n",
            "Total weight of minimum spanning tree : -94397064, completed in 232.06008625030518 seconds\n",
            "------------------------------------------------------------------------------------------------------------------------\n",
            "Executing Prim on dataset : input_random_59_40000.txt\n",
            "Total weight of minimum spanning tree : -88783643, completed in 1.5702040195465088 seconds\n",
            "Executing Kruskal Union Find on dataset : input_random_59_40000.txt\n",
            "Total weight of minimum spanning tree : -88783643, completed in 1.7032139301300049 seconds\n",
            "Executing Kruskal naive on dataset : input_random_59_40000.txt\n",
            "Total weight of minimum spanning tree : -88783643, completed in 227.34691667556763 seconds\n",
            "------------------------------------------------------------------------------------------------------------------------\n",
            "Executing Prim on dataset : input_random_60_40000.txt\n",
            "Total weight of minimum spanning tree : -93017025, completed in 1.6257119178771973 seconds\n",
            "Executing Kruskal Union Find on dataset : input_random_60_40000.txt\n",
            "Total weight of minimum spanning tree : -93017025, completed in 1.760573387145996 seconds\n",
            "Executing Kruskal naive on dataset : input_random_60_40000.txt\n",
            "Total weight of minimum spanning tree : -93017025, completed in 231.25633263587952 seconds\n",
            "------------------------------------------------------------------------------------------------------------------------\n",
            "Executing Prim on dataset : input_random_61_80000.txt\n",
            "Total weight of minimum spanning tree : -186834082, completed in 3.4011080265045166 seconds\n",
            "Executing Kruskal Union Find on dataset : input_random_61_80000.txt\n",
            "Total weight of minimum spanning tree : -186834082, completed in 3.6228220462799072 seconds\n",
            "Executing Kruskal naive on dataset : input_random_61_80000.txt\n",
            "Total weight of minimum spanning tree : -186834082, completed in 1038.0814154148102 seconds\n",
            "------------------------------------------------------------------------------------------------------------------------\n",
            "Executing Prim on dataset : input_random_62_80000.txt\n",
            "Total weight of minimum spanning tree : -185997521, completed in 3.1030001640319824 seconds\n",
            "Executing Kruskal Union Find on dataset : input_random_62_80000.txt\n",
            "Total weight of minimum spanning tree : -185997521, completed in 2.9987640380859375 seconds\n",
            "Executing Kruskal naive on dataset : input_random_62_80000.txt\n",
            "Total weight of minimum spanning tree : -185997521, completed in 970.1582324504852 seconds\n",
            "------------------------------------------------------------------------------------------------------------------------\n",
            "Executing Prim on dataset : input_random_63_80000.txt\n",
            "Total weight of minimum spanning tree : -182065015, completed in 3.0816586017608643 seconds\n",
            "Executing Kruskal Union Find on dataset : input_random_63_80000.txt\n",
            "Total weight of minimum spanning tree : -182065015, completed in 3.3173508644104004 seconds\n",
            "Executing Kruskal naive on dataset : input_random_63_80000.txt\n",
            "Total weight of minimum spanning tree : -182065015, completed in 977.8192570209503 seconds\n",
            "------------------------------------------------------------------------------------------------------------------------\n",
            "Executing Prim on dataset : input_random_64_80000.txt\n",
            "Total weight of minimum spanning tree : -180803872, completed in 3.2150321006774902 seconds\n",
            "Executing Kruskal Union Find on dataset : input_random_64_80000.txt\n",
            "Total weight of minimum spanning tree : -180803872, completed in 3.064086675643921 seconds\n",
            "Executing Kruskal naive on dataset : input_random_64_80000.txt\n",
            "Total weight of minimum spanning tree : -180803872, completed in 969.9505755901337 seconds\n",
            "------------------------------------------------------------------------------------------------------------------------\n",
            "Executing Prim on dataset : input_random_65_100000.txt\n",
            "Total weight of minimum spanning tree : -230698391, completed in 3.925168752670288 seconds\n",
            "Executing Kruskal Union Find on dataset : input_random_65_100000.txt\n",
            "Total weight of minimum spanning tree : -230698391, completed in 3.896235704421997 seconds\n",
            "Executing Kruskal naive on dataset : input_random_65_100000.txt\n",
            "Total weight of minimum spanning tree : -230698391, completed in 1581.3241143226624 seconds\n",
            "------------------------------------------------------------------------------------------------------------------------\n",
            "Executing Prim on dataset : input_random_66_100000.txt\n",
            "Total weight of minimum spanning tree : -230168572, completed in 3.950550079345703 seconds\n",
            "Executing Kruskal Union Find on dataset : input_random_66_100000.txt\n",
            "Total weight of minimum spanning tree : -230168572, completed in 4.104330778121948 seconds\n",
            "Executing Kruskal naive on dataset : input_random_66_100000.txt\n",
            "Total weight of minimum spanning tree : -230168572, completed in 1578.2273962497711 seconds\n",
            "------------------------------------------------------------------------------------------------------------------------\n",
            "Executing Prim on dataset : input_random_67_100000.txt\n",
            "Total weight of minimum spanning tree : -231393935, completed in 4.5434606075286865 seconds\n",
            "Executing Kruskal Union Find on dataset : input_random_67_100000.txt\n",
            "Total weight of minimum spanning tree : -231393935, completed in 4.1481029987335205 seconds\n",
            "Executing Kruskal naive on dataset : input_random_67_100000.txt\n",
            "Total weight of minimum spanning tree : -231393935, completed in 1600.3709144592285 seconds\n",
            "------------------------------------------------------------------------------------------------------------------------\n",
            "Executing Prim on dataset : input_random_68_100000.txt\n",
            "Total weight of minimum spanning tree : -231011693, completed in 4.26285982131958 seconds\n",
            "Executing Kruskal Union Find on dataset : input_random_68_100000.txt\n",
            "Total weight of minimum spanning tree : -231011693, completed in 4.116511344909668 seconds\n",
            "Executing Kruskal naive on dataset : input_random_68_100000.txt\n",
            "Total weight of minimum spanning tree : -231011693, completed in 1620.288737297058 seconds\n",
            "------------------------------------------------------------------------------------------------------------------------\n"
          ],
          "name": "stdout"
        }
      ]
    },
    {
      "cell_type": "markdown",
      "metadata": {
        "colab_type": "text",
        "id": "g3uXK_xk7oMX"
      },
      "source": [
        "## Plotting the results"
      ]
    },
    {
      "cell_type": "markdown",
      "metadata": {
        "colab_type": "text",
        "id": "slC64d8n7SVb"
      },
      "source": [
        "To study the efficiency of the three algorithms we plot their time of execution with respect to the number of nodes of the datasets where they have been executed.  \n",
        "Since there may be multiple dataset with the same number of nodes we plot the average computational time needed.\n"
      ]
    },
    {
      "cell_type": "code",
      "metadata": {
        "colab_type": "code",
        "id": "ZhmrcYHAttCL",
        "colab": {},
        "outputId": "15ec00cf-ece5-4aa9-923c-43034b6ca5be"
      },
      "source": [
        "fig, ax = plt.subplots(nrows=1, ncols=2)\n",
        "ax1,ax2=ax\n",
        "\n",
        "list_prim = sorted(prim_times.items())\n",
        "list_kuf = sorted(kuf_times.items())\n",
        "list_kn = sorted(kn_times.items())\n",
        "\n",
        "x_prim, y_prim = zip(*list_prim)\n",
        "x_kuf, y_kuf = zip(*list_kuf)\n",
        "x_kn, y_kn = zip(*list_kn)\n",
        "\n",
        "fig.set_figwidth(24)\n",
        "fig.set_figheight(8)\n",
        "\n",
        "ax1.plot(x_prim, y_prim)\n",
        "ax1.scatter(x_prim, y_prim)\n",
        "ax1.plot(x_kuf, y_kuf)\n",
        "ax1.scatter(x_kuf, y_kuf)\n",
        "ax2.plot(x_kn, y_kn)\n",
        "ax2.scatter(x_kn, y_kn)\n",
        "\n",
        "ax1.legend(['Prim', \"Kruskal Union Find\"])\n",
        "ax1.set_title(\"Prim VS Kruskal-Union-Find\")\n",
        "ax1.set_xlabel(\"n_nodes\")\n",
        "ax1.set_ylabel(\"Time in seconds\")\n",
        "ax2.set_title(\"Kruskal Naive\")\n",
        "ax2.legend([\"Kruskal Naive\"])\n",
        "ax2.set_xlabel(\"n_nodes\")\n",
        "ax2.set_ylabel(\"Time in seconds\")\n",
        "\n",
        "fig.show()"
      ],
      "execution_count": 0,
      "outputs": [
        {
          "output_type": "stream",
          "text": [
            "<ipython-input-21-78de2f3ea0e6>:31: UserWarning: Matplotlib is currently using module://ipykernel.pylab.backend_inline, which is a non-GUI backend, so cannot show the figure.\n",
            "  fig.show()\n"
          ],
          "name": "stderr"
        },
        {
          "output_type": "display_data",
          "data": {
            "image/png": "[encoded data removed]",
            "text/plain": [
              "<Figure size 1728x576 with 2 Axes>"
            ]
          },
          "metadata": {
            "tags": [],
            "needs_background": "light"
          }
        }
      ]
    },
    {
      "cell_type": "markdown",
      "metadata": {
        "id": "t4tlvDSU5N76",
        "colab_type": "text"
      },
      "source": [
        "From the graphics above we can clearly see that the _Prim_ and _Kruskal Union Find_ algorithms have really similar execution times.\n",
        "Though we can't say with certaintly that one is strictly better than the other.\n",
        "Instead as we can see the execution time of the _Kruskal Naive_ algorithm  grows at a much larger rate than the previous algorithms by reaching very quickly unbearable times.  \n",
        "We can also notice that the execution time of _Prim_ and  _Kruskal-Union-Find_ seems to grow at a liner rate. Instead the _Kruskal Naive_ algorithm seems to have a quadratic tendency.  \n",
        "  \n",
        "In conclusion we can surely say that _Kruskal Naive_ performs way much worse if compared with the other two algorithms but is tough to determine which is the best between _Kruskal-Union-Find_ and _Prim_\n"
      ]
    },
    {
      "cell_type": "markdown",
      "metadata": {
        "colab_type": "text",
        "id": "Hqva3NNLty0g"
      },
      "source": [
        "To make the graphs more readable we decided also to draw a graphic where the x-axis was put on a logarithmic scale"
      ]
    },
    {
      "cell_type": "code",
      "metadata": {
        "colab_type": "code",
        "id": "d1ykAREesAUZ",
        "colab": {},
        "outputId": "990c16eb-69cc-435d-f148-59d54cb9662b"
      },
      "source": [
        "fig, ax = plt.subplots(nrows=1, ncols=2)\n",
        "ax1,ax2=ax\n",
        "\n",
        "list_prim = sorted(prim_times.items())\n",
        "list_kuf = sorted(kuf_times.items())\n",
        "list_kn = sorted(kn_times.items())\n",
        "\n",
        "x_prim, y_prim = zip(*list_prim)\n",
        "x_kuf, y_kuf = zip(*list_kuf)\n",
        "x_kn, y_kn = zip(*list_kn)\n",
        "\n",
        "fig.set_figheight(8)\n",
        "fig.set_figwidth(24)\n",
        "\n",
        "ax1.plot(x_prim, y_prim)\n",
        "ax1.scatter(x_prim, y_prim)\n",
        "ax1.plot(x_kuf, y_kuf)\n",
        "ax1.scatter(x_kuf, y_kuf)\n",
        "ax2.plot(x_kn, y_kn)\n",
        "ax2.scatter(x_kn, y_kn)\n",
        "\n",
        "ax1.legend(['Prim', \"Kruskal Union Find\"])\n",
        "ax1.set_title(\"Prim VS Kruskal-Union-Find\")\n",
        "ax1.set_xlabel(\"n_nodes\")\n",
        "ax1.set_ylabel(\"Time in seconds\")\n",
        "ax1.set_xscale(\"log\")\n",
        "ax2.set_title(\"Kruskal Naive\")\n",
        "ax2.legend([\"Kruskal Naive\"])\n",
        "ax2.set_xlabel(\"n_nodes\")\n",
        "ax2.set_ylabel(\"Time in seconds\")\n",
        "ax2.set_xscale(\"log\")\n",
        "\n",
        "fig.show()"
      ],
      "execution_count": 0,
      "outputs": [
        {
          "output_type": "stream",
          "text": [
            "<ipython-input-22-cf2449f75768>:33: UserWarning: Matplotlib is currently using module://ipykernel.pylab.backend_inline, which is a non-GUI backend, so cannot show the figure.\n",
            "  fig.show()\n"
          ],
          "name": "stderr"
        },
        {
          "output_type": "display_data",
          "data": {
            "image/png": "[encoded data removed]",
            "text/plain": [
              "<Figure size 1728x576 with 2 Axes>"
            ]
          },
          "metadata": {
            "tags": [],
            "needs_background": "light"
          }
        }
      ]
    },
    {
      "cell_type": "markdown",
      "metadata": {
        "colab_type": "text",
        "id": "NQHhoCvf5K1c"
      },
      "source": [
        "# Credits\n",
        "\n",
        "This notebook was realized by:\n",
        "* **Giacomo Barzon**  (1236597)\n",
        "* **Diego Mazzalovo** (1236592)\n",
        "* **Giacomo Greggio** (1234236)"
      ]
    }
  ]
}