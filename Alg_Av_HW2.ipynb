{
  "nbformat": 4,
  "nbformat_minor": 0,
  "metadata": {
    "colab": {
      "name": "Alg_Av_HW2.ipynb",
      "provenance": [],
      "collapsed_sections": [],
      "authorship_tag": "ABX9TyPyExt/wImRUMGNas0kz09e",
      "include_colab_link": true
    },
    "kernelspec": {
      "name": "python3",
      "display_name": "Python 3"
    }
  },
  "cells": [
    {
      "cell_type": "markdown",
      "metadata": {
        "id": "view-in-github",
        "colab_type": "text"
      },
      "source": [
        "<a href=\"https://colab.research.google.com/github/giacomogreggio/Algoritmi_avanzati/blob/master/Alg_Av_HW2.ipynb\" target=\"_parent\"><img src=\"https://colab.research.google.com/assets/colab-badge.svg\" alt=\"Open In Colab\"/></a>"
      ]
    },
    {
      "cell_type": "code",
      "metadata": {
        "id": "q73D9dmlmC9e",
        "colab_type": "code",
        "colab": {}
      },
      "source": [
        "from math import pi, cos, acos, sqrt, inf\n",
        "import time\n",
        "from google.colab import drive\n",
        "import random\n",
        "import os\n",
        "import matplotlib.pylab as plt\n",
        "%matplotlib inline\n",
        "from statistics import mean\n",
        "import copy"
      ],
      "execution_count": 0,
      "outputs": []
    },
    {
      "cell_type": "code",
      "metadata": {
        "id": "ylsaxNcannZH",
        "colab_type": "code",
        "colab": {
          "base_uri": "https://localhost:8080/",
          "height": 120
        },
        "outputId": "69a8ccb2-7ccd-4e53-ee70-3c43adb70eaf"
      },
      "source": [
        "drive.mount('/content/drive', force_remount=True)"
      ],
      "execution_count": 2,
      "outputs": [
        {
          "output_type": "stream",
          "text": [
            "Go to this URL in a browser: https://accounts.google.com/o/oauth2/auth?client_id=947318989803-6bn6qk8qdgf4n4g3pfee6491hc0brc4i.apps.googleusercontent.com&redirect_uri=urn%3aietf%3awg%3aoauth%3a2.0%3aoob&response_type=code&scope=email%20https%3a%2f%2fwww.googleapis.com%2fauth%2fdocs.test%20https%3a%2f%2fwww.googleapis.com%2fauth%2fdrive%20https%3a%2f%2fwww.googleapis.com%2fauth%2fdrive.photos.readonly%20https%3a%2f%2fwww.googleapis.com%2fauth%2fpeopleapi.readonly\n",
            "\n",
            "Enter your authorization code:\n",
            "··········\n",
            "Mounted at /content/drive\n"
          ],
          "name": "stdout"
        }
      ]
    },
    {
      "cell_type": "code",
      "metadata": {
        "id": "0XniEp22npOI",
        "colab_type": "code",
        "colab": {}
      },
      "source": [
        "dataset_folder=\"/content/drive/My Drive/Colab Notebooks/algoritmi_avanzati/Homework_2/dataset/ulysses22.tsp\""
      ],
      "execution_count": 0,
      "outputs": []
    },
    {
      "cell_type": "code",
      "metadata": {
        "id": "975q3PVOo3aB",
        "colab_type": "code",
        "colab": {}
      },
      "source": [
        "RRR = 6378.388\n",
        "\n",
        "def convert_to_rad(coords):\n",
        "    res = []\n",
        "    for c in coords:\n",
        "        deg = int(c)\n",
        "        m = c - deg\n",
        "        rad = pi * (deg + 5.0 * m/ 3.0) / 180.0\n",
        "        res.append(rad)\n",
        "    return res\n",
        " \n",
        "def geographic_distance(coord1, coord2):\n",
        "    q1 = cos( coord1[1] - coord2[1] )\n",
        "    q2 = cos( coord1[0] - coord2[0] )\n",
        "    q3 = cos( coord1[0] + coord2[0] )\n",
        "    dij = int( RRR * acos( 0.5*((1.0+q1)*q2 - (1.0-q1)*q3) ) + 1.0)\n",
        "    return dij\n",
        "\n",
        "def euclidean_distance(coord1, coord2):\n",
        "    return sqrt(sum([(a - b) ** 2 for a, b in zip(coord1, coord2)]))\n",
        "\n",
        "def import_graph(dataset_path):\n",
        "    dataset_file=open(dataset_path,\"r\")\n",
        "    content=dataset_file.read()\n",
        "    dataset=content.split(\"\\n\")\n",
        "    i = 0\n",
        "    while not dataset[i].startswith(\"NODE_COORD_SECTION\"):\n",
        "        if dataset[i].startswith(\"EDGE_WEIGHT_TYPE\"):\n",
        "            type_coords = dataset[i].split(\":\")[1][1:]\n",
        "        i = i + 1\n",
        "    i = i + 1\n",
        "\n",
        "    node_names, coordinates = [], {}\n",
        "    for j in range(i, len(dataset)):\n",
        "        row = dataset[j].split()\n",
        "        if len(row) != 3:\n",
        "            break\n",
        "        name = str(row[0])\n",
        "        x, y = float(row[1]), float(row[2])\n",
        "        node_names.append(name)\n",
        "        coordinates[name] = [x, y] if type_coords == \"EUC_2D\" else convert_to_rad([x, y])\n",
        "    return node_names, coordinates, euclidean_distance if type_coords == \"EUC_2D\" else geographic_distance\n"
      ],
      "execution_count": 0,
      "outputs": []
    },
    {
      "cell_type": "code",
      "metadata": {
        "id": "ESzFfKh-o6aA",
        "colab_type": "code",
        "colab": {
          "base_uri": "https://localhost:8080/",
          "height": 33
        },
        "outputId": "d00fd3ed-73d6-4362-cef2-5aae684c7cc6"
      },
      "source": [
        "node_names, coordinates, distance_function = import_graph(dataset_folder)\n",
        "d, p = {}, {}\n",
        "starting_node = node_names[0]\n",
        "\n",
        "def get_name(v, s):\n",
        "    return ''.join(s) + \" \" + str(v)\n",
        "\n",
        "def held_karp(v, S):\n",
        "    if v not in S:\n",
        "        print(\"Error\")\n",
        "    # ----------------------------------------------------------------TODO scegliere il nome----------------------------------------------------------------\n",
        "    name_to_choose = get_name(v, S) \n",
        "    if len(S) == 1 and v in S:\n",
        "        return distance_function(coordinates[starting_node], coordinates[v])\n",
        "    elif name_to_choose in d:\n",
        "        return d[name_to_choose]\n",
        "    else:\n",
        "        mindist, minprec = inf, None\n",
        "        node_names_copy = copy.deepcopy(S)\n",
        "        node_names_copy.remove(v)\n",
        "        for u in node_names_copy:\n",
        "            dist = held_karp(u, node_names_copy)\n",
        "            uv_weight = distance_function(coordinates[u], coordinates[v])\n",
        "            if dist + uv_weight < mindist:\n",
        "                mindist = dist + uv_weight\n",
        "                minprec = u\n",
        "        d[name_to_choose] = mindist\n",
        "        p[name_to_choose] = minprec\n",
        "        return mindist\n",
        "\n",
        "held_karp(starting_node, node_names)\n",
        "\n"
      ],
      "execution_count": 102,
      "outputs": [
        {
          "output_type": "execute_result",
          "data": {
            "text/plain": [
              "7013"
            ]
          },
          "metadata": {
            "tags": []
          },
          "execution_count": 102
        }
      ]
    }
  ]
}