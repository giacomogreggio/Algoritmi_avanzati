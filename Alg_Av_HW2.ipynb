{
  "nbformat": 4,
  "nbformat_minor": 0,
  "metadata": {
    "colab": {
      "name": "Alg_Av_HW2.ipynb",
      "provenance": [],
      "collapsed_sections": [],
      "toc_visible": true,
      "include_colab_link": true
    },
    "kernelspec": {
      "name": "python3",
      "display_name": "Python 3"
    }
  },
  "cells": [
    {
      "cell_type": "markdown",
      "metadata": {
        "id": "view-in-github",
        "colab_type": "text"
      },
      "source": [
        "<a href=\"https://colab.research.google.com/github/giacomogreggio/Algoritmi_avanzati/blob/master/Alg_Av_HW2.ipynb\" target=\"_parent\"><img src=\"https://colab.research.google.com/assets/colab-badge.svg\" alt=\"Open In Colab\"/></a>"
      ]
    },
    {
      "cell_type": "markdown",
      "metadata": {
        "id": "D75mEHxAahG7",
        "colab_type": "text"
      },
      "source": [
        "# Introduction\n",
        "\n",
        "This is a python notebook containing the execution of the second homework of the course \"Advanced Algorithms 2019/2020\".\n",
        "\n",
        "In this notebook we will analize the \"Travelig Salesman Problem\" (TSP) that is an intractable problem, by focusing on execution times and quality of solutions.\n",
        "\n",
        "In particular we will implement and analize the following algorithms:\n",
        "\n",
        "* the exact algorithm of Held and Karp\n",
        "* Closest Insertion as a constructive heuristic\n",
        "* 2-approximation algorithm\n"
      ]
    },
    {
      "cell_type": "markdown",
      "metadata": {
        "id": "iRLp8F6rba_2",
        "colab_type": "text"
      },
      "source": [
        "# Traveling Salesman Problem (TSP)\n",
        "The \"Traveling"
      ]
    },
    {
      "cell_type": "markdown",
      "metadata": {
        "id": "S86H3u_NcSeZ",
        "colab_type": "text"
      },
      "source": [
        "# Importing the dependencies"
      ]
    },
    {
      "cell_type": "code",
      "metadata": {
        "id": "q73D9dmlmC9e",
        "colab_type": "code",
        "colab": {}
      },
      "source": [
        "from math import pi, cos, acos, sqrt, inf\n",
        "import time\n",
        "from google.colab import drive\n",
        "import random\n",
        "import os\n",
        "import matplotlib.pylab as plt\n",
        "%matplotlib inline\n",
        "import copy\n",
        "import pandas as pd"
      ],
      "execution_count": 0,
      "outputs": []
    },
    {
      "cell_type": "markdown",
      "metadata": {
        "id": "ea78dGThcZwV",
        "colab_type": "text"
      },
      "source": [
        "# Notebook configuration\n",
        "\n",
        "This section contains the configuration needed to run this notebook\n",
        "First of all you need to upload the datasets where all the algorithms will be run to a folder on google drive\n",
        "Next please mount your google drive by following the instructions that will be described below"
      ]
    },
    {
      "cell_type": "code",
      "metadata": {
        "id": "ylsaxNcannZH",
        "colab_type": "code",
        "outputId": "60f3acb4-b96c-4043-b412-435959d3e164",
        "colab": {
          "base_uri": "https://localhost:8080/",
          "height": 120
        }
      },
      "source": [
        "drive.mount('/content/drive', force_remount=True)"
      ],
      "execution_count": 0,
      "outputs": [
        {
          "output_type": "stream",
          "text": [
            "Go to this URL in a browser: https://accounts.google.com/o/oauth2/auth?client_id=947318989803-6bn6qk8qdgf4n4g3pfee6491hc0brc4i.apps.googleusercontent.com&redirect_uri=urn%3aietf%3awg%3aoauth%3a2.0%3aoob&response_type=code&scope=email%20https%3a%2f%2fwww.googleapis.com%2fauth%2fdocs.test%20https%3a%2f%2fwww.googleapis.com%2fauth%2fdrive%20https%3a%2f%2fwww.googleapis.com%2fauth%2fdrive.photos.readonly%20https%3a%2f%2fwww.googleapis.com%2fauth%2fpeopleapi.readonly\n",
            "\n",
            "Enter your authorization code:\n",
            "··········\n",
            "Mounted at /content/drive\n"
          ],
          "name": "stdout"
        }
      ]
    },
    {
      "cell_type": "markdown",
      "metadata": {
        "id": "7dUL7rKZdQb9",
        "colab_type": "text"
      },
      "source": [
        "Please set the following variable to the path of the folder where you uploaded all the datasets"
      ]
    },
    {
      "cell_type": "code",
      "metadata": {
        "id": "9piX9bN_cvBs",
        "colab_type": "code",
        "colab": {}
      },
      "source": [
        "dataset_path=\"/content/drive/My Drive/Colab Notebooks/algoritmi_avanzati/Homework_2/dataset/\""
      ],
      "execution_count": 0,
      "outputs": []
    },
    {
      "cell_type": "markdown",
      "metadata": {
        "id": "bvkj7Gntn5HM",
        "colab_type": "text"
      },
      "source": [
        "# Defining data structures\n",
        "\n",
        "## Importing from the previous homework\n",
        "\n",
        "We start by importing a couple of classes that we define in the previous homework, and that will be useful to implement the 2-approximation algorithm."
      ]
    },
    {
      "cell_type": "markdown",
      "metadata": {
        "id": "sH9ZT83Gqzm-",
        "colab_type": "text"
      },
      "source": [
        "### Edge class\n",
        "The class that we used to represent the edges of the graph"
      ]
    },
    {
      "cell_type": "code",
      "metadata": {
        "id": "7H7Gx_4QqxMt",
        "colab_type": "code",
        "colab": {}
      },
      "source": [
        "class Edge:\n",
        "    def __init__(self, node1,node2, weight=None):\n",
        "        self.node1=node1\n",
        "        self.node2=node2\n",
        "        self.weight=weight\n",
        "\n",
        "    def to_string(self):\n",
        "        print(\"Edge : {} , weight : {}\".format(str(self.node1) + \" \" + str(self.node2), self.weight))"
      ],
      "execution_count": 0,
      "outputs": []
    },
    {
      "cell_type": "markdown",
      "metadata": {
        "id": "toNUIuVtq-nz",
        "colab_type": "text"
      },
      "source": [
        "### HeapNode class\n",
        "\n",
        "The class that we used to represent the single node of the heap structure. In particular, each node has two parameters: its name and its weight."
      ]
    },
    {
      "cell_type": "code",
      "metadata": {
        "id": "fSBoyq4Xq_A-",
        "colab_type": "code",
        "colab": {}
      },
      "source": [
        "class HeapNode:\n",
        "  def __init__(self, node, weight):\n",
        "    self.node=node\n",
        "    self.weight=weight"
      ],
      "execution_count": 0,
      "outputs": []
    },
    {
      "cell_type": "markdown",
      "metadata": {
        "id": "oIVKIp2OrKrH",
        "colab_type": "text"
      },
      "source": [
        "### MinHeap class\n",
        "\n",
        "The class that we used to represent MinHeap data structure. The structure is described as follow:\n",
        "\n",
        "  * **__init__**: Given a list of HeapNodes initializes the heap.  Complexity: O(n*log(n))\n",
        "\n",
        "  * **left**: Returns the position of the left child of a node. Complexity:O(1)\n",
        "\n",
        "  * **right**: Returns the position of the right child of a node. Complexity:O(1)\n",
        "\n",
        "  * **parent**: Returns the position of the father of a node. Complexity: O(1)\n",
        "\n",
        "  * **min_heapify**: Given the root of a binary tree, if both the left and right subtrees of the root are min heap data structures this method converts the entire tree to a min heap. Complexity:O(log(n))\n",
        "\n",
        "  * **insert**: Adds a new node to the heap data structure. Complexity:O(log(n))\n",
        "\n",
        "  * **delete**: Deletes an element from the list and returns it. Complexity:O(log(n))\n",
        "\n",
        "  * **modify**: Modifies the weight value of a node and restores the properties of the min-heap tree. Complexity:O(log(n))\n",
        "\n",
        "  * **correct**: Checks the correctness of the heap. Complexity:O(n)\n",
        "\n",
        "  * **extact_min**: Deletes and returns from the heap the node with the minimum weight value. Complexity:O(log(n))\n",
        "\n",
        "  * **contains_node**: Checks if a node is contained inside the heap. Complexity:O(1)\n",
        "\n",
        "  * **empty**: Returns true if the structure is empty. Complexity:O(1)\n",
        "\n",
        "  * **get_key**: Returns the key of a node given its name. Complexity:O(1)\n",
        "\n",
        "  * **min_heapify_up**: Does the inverse process of the _min_heapify()_ method. \n",
        "While _min_heapify()_ makes a node descend the tree, the _min_heapify_up()_ makes it ascend. It's used only inside the _modify()_ method when the weight is lower than the previous. Complexity:O(log(n))."
      ]
    },
    {
      "cell_type": "code",
      "metadata": {
        "id": "aG0jARu4tRWG",
        "colab_type": "code",
        "colab": {}
      },
      "source": [
        "class MinHeap:\n",
        "  def __init__(self, list_of_nodes):\n",
        "    self.positions = {}\n",
        "    self.nodes = list_of_nodes\n",
        "    self.heap_size = len(list_of_nodes)\n",
        "    self.nodes.insert(0, inf)\n",
        "    for i in range(1, len(self.nodes)):\n",
        "        self.positions[self.nodes[i].node] = i\n",
        "    for i in range(int(self.heap_size/2), 0, -1):\n",
        "      self.min_heapify(i)\n",
        "\n",
        "  def left(self,i):\n",
        "    return 2*i\n",
        "\n",
        "  def right(self,i):\n",
        "    return 2*i+1\n",
        "\n",
        "  def parent(self,i):\n",
        "    return int(i/2)\n",
        "\n",
        "  def min_heapify(self, i):\n",
        "    if self.heap_size < 2:\n",
        "        return\n",
        "    while i <= int(self.heap_size)/2:\n",
        "        l, r = self.left(i), self.right(i)\n",
        "        # Checking the minimum between the root and it's two childrens\n",
        "        minimum = l if l <= self.heap_size and self.nodes[l].weight < self.nodes[i].weight else i\n",
        "        if r <= self.heap_size and self.nodes[r].weight < self.nodes[minimum].weight:\n",
        "            minimum = r\n",
        "        if minimum == i: # if it's the minimum interrupt the execution\n",
        "            break\n",
        "\n",
        "        temp = self.nodes[i]\n",
        "\n",
        "        self.nodes[i] = self.nodes[minimum]\n",
        "        self.positions[self.nodes[i].node] = i\n",
        "\n",
        "        self.nodes[minimum] = temp\n",
        "        self.positions[self.nodes[minimum].node] = minimum\n",
        "\n",
        "        i = minimum\n",
        "        \n",
        "  def insert(self, heap_node):\n",
        "    self.heap_size += 1\n",
        "    i = self.heap_size\n",
        "    self.positions[heap_node.node] = i\n",
        "    self.nodes.append(heap_node)\n",
        "    self.min_heapify_up(i)\n",
        "  \n",
        "  def delete(self, node_name):\n",
        "    pos = self.positions[node_name]\n",
        "    deleted_node = self.nodes[pos] \n",
        "    self.nodes[pos] = self.nodes[self.heap_size]\n",
        "    self.positions[self.nodes[pos].node] = pos\n",
        "    del self.nodes[self.heap_size]\n",
        "    del self.positions[node_name]\n",
        "    self.heap_size -= 1\n",
        "    self.min_heapify(pos)\n",
        "    return deleted_node\n",
        "\n",
        "  def modify(self, heap_node):\n",
        "    i = self.positions[heap_node.node]\n",
        "    p = self.parent(i)\n",
        "    self.nodes[i].weight = heap_node.weight\n",
        "    if p > 0 and self.nodes[p].weight > heap_node.weight:\n",
        "        self.min_heapify_up(i)\n",
        "    else:\n",
        "        self.min_heapify(i)\n",
        "\n",
        "  def correct(self):\n",
        "    for i in range(1, int(self.heap_size/2)):\n",
        "      l = self.left(i)\n",
        "      r = self.right(i)\n",
        "      act_weight = self.nodes[i].weight\n",
        "      if act_weight > self.nodes[l].weight or (r > self.heap_size and self.nodes[r].weight != inf) or (r <= self.heap_size and self.nodes[r].weight < act_weight):\n",
        "        return False\n",
        "    return True\n",
        "\n",
        "  def extract_min(self):\n",
        "    return self.delete(self.nodes[1].node)\n",
        "\n",
        "  def contains_node(self, name):\n",
        "      return name in self.positions\n",
        "\n",
        "  def empty(self):\n",
        "      return self.heap_size == 0\n",
        "\n",
        "  def get_key(self, node):\n",
        "    return self.nodes[self.positions[node]].weight\n",
        "    \n",
        "  def min_heapify_up(self, i):\n",
        "    if i < 2:\n",
        "      return\n",
        "    act = self.nodes[i]\n",
        "    p = self.parent(i)\n",
        "    while p > 0 and self.nodes[p].weight > self.nodes[i].weight:\n",
        "      temp = self.nodes[i]\n",
        "\n",
        "      self.nodes[i] = self.nodes[p]\n",
        "      self.positions[self.nodes[i].node] = i\n",
        "\n",
        "      self.nodes[p] = temp\n",
        "      self.positions[self.nodes[p].node] = p\n",
        "      i = p\n",
        "      p = self.parent(i)\n",
        "\n",
        "def prim(start, edge_list, node_names, weights):\n",
        "  parents, heap_nodes = {}, []\n",
        "  # O(n)\n",
        "  for i in range(1,len(node_names)+1):\n",
        "    heap_nodes.append(HeapNode(i,inf)) # O(1)\n",
        "\n",
        "  heap_nodes[int(start) - 1].weight = 0 # O(1)\n",
        "  Q = MinHeap(heap_nodes)  # O(nlogn)\n",
        "  # O(n)\n",
        "  while not Q.empty():\n",
        "    u = Q.extract_min().node # O(logn)\n",
        "    for v in node_names: # O(m)\n",
        "        v = int(v)\n",
        "        if v != u:\n",
        "            w = weights.get_weight(u, v)\n",
        "            if Q.contains_node(v) and w < Q.get_key(v): # O(1)\n",
        "                parents[v] = {\"parent\": u, \"weight\": w } # O(1)\n",
        "                Q.modify(HeapNode(v, w)) # O(2logn)\n",
        "  return parents\n"
      ],
      "execution_count": 0,
      "outputs": []
    },
    {
      "cell_type": "markdown",
      "metadata": {
        "id": "DZjRGy-vjbEA",
        "colab_type": "text"
      },
      "source": [
        "### Weights class\n",
        "\n",
        "Weights is a class that cointains the weights relative to each edge of the graph.\n",
        "\n",
        "The class has the following methods:\n",
        "\n",
        "* **get_edge_name**: passing the name of two vertexes as parameters and returns a unique identifier for the edge incident on those two vertexes.\n",
        "* **add_weight**: given the name of two vertexes and a weight, adds to the data structure the edge incident on those vertexes with that weight.\n",
        "* **get_weight**: give the name of two vertexes of an edge, returns that edge's weight."
      ]
    },
    {
      "cell_type": "code",
      "metadata": {
        "id": "61uHLrHdjaBE",
        "colab_type": "code",
        "colab": {}
      },
      "source": [
        "class Weights:\n",
        "    def __init__(self):\n",
        "        self.weights = {}\n",
        "\n",
        "    def get_edge_name(self, a, b):\n",
        "        return str(a) + \" \" + str(b) if int(a) < int(b) else str(b) + \" \" + str(a)\n",
        "\n",
        "    #Adds the weight if not present otherwise does nothing\n",
        "    def add_weight(self, a, b, weight):\n",
        "        name = self.get_edge_name(a,b)\n",
        "        if name not in self.weights or self.weights[name] > weight:\n",
        "            self.weights[name]=weight\n",
        "            \n",
        "    #Given two nodes returns the weight of the edge\n",
        "    def get_weight(self, a, b):\n",
        "        name = self.get_edge_name(a,b)\n",
        "        return self.weights[name]"
      ],
      "execution_count": 0,
      "outputs": []
    },
    {
      "cell_type": "markdown",
      "metadata": {
        "id": "nq0UqoxLsZbR",
        "colab_type": "text"
      },
      "source": [
        "## Distance methods\n",
        "\n",
        "The following methods will be used to calculate the Geographic distance and Euclidean distance between two coordinates.\n",
        "\n",
        "### Euclidean distance\n",
        "This method calculates the euclidean distance, given the coordiantes of two points.\n"
      ]
    },
    {
      "cell_type": "code",
      "metadata": {
        "id": "h-PnNQs-uHyd",
        "colab_type": "code",
        "colab": {}
      },
      "source": [
        "def euclidean_distance(coord1, coord2):\n",
        "    return sqrt(sum([(a - b) ** 2 for a, b in zip(coord1, coord2)]))"
      ],
      "execution_count": 0,
      "outputs": []
    },
    {
      "cell_type": "markdown",
      "metadata": {
        "id": "Hf4EWlaFuPbY",
        "colab_type": "text"
      },
      "source": [
        "### Convert to radiant\n",
        "Given the latitude and longitude of a geographic point, this method converts them to radiants."
      ]
    },
    {
      "cell_type": "code",
      "metadata": {
        "id": "8RJxHVk1vHW7",
        "colab_type": "code",
        "colab": {}
      },
      "source": [
        "def convert_to_rad(coords):\n",
        "    return [ (pi * (int(coord) + 5.0 * (coord - int(coord)) / 3.0) / 180.0) for coord in coords ]"
      ],
      "execution_count": 0,
      "outputs": []
    },
    {
      "cell_type": "markdown",
      "metadata": {
        "id": "UXSKw79IuI9p",
        "colab_type": "text"
      },
      "source": [
        "### Geographic distance\n",
        "\n",
        "This method calculates the geographic distance, given the coordiantes in radiants of two points.\n",
        "\n",
        "**RRR** is a constant needed to calculate the geographic distance between two points."
      ]
    },
    {
      "cell_type": "code",
      "metadata": {
        "id": "975q3PVOo3aB",
        "colab_type": "code",
        "colab": {}
      },
      "source": [
        "RRR = 6378.388\n",
        "\n",
        "def geographic_distance(coord1, coord2):\n",
        "    q1, q2, q3 = cos( coord1[1] - coord2[1] ), cos( coord1[0] - coord2[0] ), cos( coord1[0] + coord2[0] )\n",
        "    return int( RRR * acos( 0.5*((1.0+q1)*q2 - (1.0-q1)*q3) ) + 1.0)"
      ],
      "execution_count": 0,
      "outputs": []
    },
    {
      "cell_type": "markdown",
      "metadata": {
        "id": "MbuFqT2Rfzse",
        "colab_type": "text"
      },
      "source": [
        "## Importing graph from dataset\n",
        "\n",
        "The following method aims to import a graph by creating some structures needed to run the following methods.\n",
        "\n",
        "**INPUT** : \n",
        "\n",
        "* **dataset_path**: path to dataset file where we want to run our algorithms.\n",
        "\n",
        "**OUTPUT** :\n",
        "\n",
        "* **node_names**: list of all string names of our nodes.\n",
        "* **weights**: an instance of the data structure discussed above. For each pair of vertexes we calculate their geographic or euclidean distance and we add it to such data structure.\n",
        "* **edge_list**: list of edge classes that we will use for 2-approximation algorithm.\n"
      ]
    },
    {
      "cell_type": "code",
      "metadata": {
        "id": "nkEQRWJ6fyok",
        "colab_type": "code",
        "colab": {}
      },
      "source": [
        "def import_graph(dataset_path):\n",
        "    dataset = open(dataset_path,\"r\").read().split(\"\\n\")\n",
        "\n",
        "    i = 0\n",
        "    while not dataset[i].startswith(\"NODE_COORD_SECTION\"):\n",
        "        if dataset[i].startswith(\"EDGE_WEIGHT_TYPE\"):\n",
        "            type_coords = dataset[i].split(\":\")[1][1:]\n",
        "        i = i + 1\n",
        "    i = i + 1\n",
        "\n",
        "    node_names, coordinates, weights, edge_list = [], {}, Weights(), []\n",
        "    # reads all vertex with coordinates\n",
        "    for j in range(i, len(dataset)):\n",
        "        row = dataset[j].split()\n",
        "        if len(row) != 3:\n",
        "            break\n",
        "        name, x, y = str(row[0]), float(row[1]), float(row[2])\n",
        "        node_names.append(name)\n",
        "        coordinates[name] = [x, y] if type_coords == \"EUC_2D\" else convert_to_rad([x, y])\n",
        "    \n",
        "    distance_function = euclidean_distance if type_coords == \"EUC_2D\" else geographic_distance\n",
        "    for i in range(len(node_names)):\n",
        "        for j in range(1 + i, len(node_names)):\n",
        "            weights.add_weight(node_names[i], node_names[j], distance_function(coordinates[node_names[i]], coordinates[node_names[j]]))\n",
        "            edge_list.append(Edge(int(node_names[i]), int(node_names[j]), weights.get_weight(node_names[i], node_names[j])))\n",
        "\n",
        "    return node_names, weights, edge_list"
      ],
      "execution_count": 0,
      "outputs": []
    },
    {
      "cell_type": "markdown",
      "metadata": {
        "id": "WjYt-Fvkw3xX",
        "colab_type": "text"
      },
      "source": [
        "# Held and Karp\n",
        "\n",
        "Held and Karp is a dynamic algorithm that aims to calculate the minimum circuit that solves the TSP problem. On each iteration, given a node **v** and a subset of nodes **S**, it returns the weight of the minimum path that reaches **v** by starting from a particular node and goes through all nodes belonging to **S**.\n",
        "\n",
        "Since the method has a complexity of O($2^n$), we stop it if it exceeds a certain time threshold.\n",
        "We stop the method after two minutes."
      ]
    },
    {
      "cell_type": "code",
      "metadata": {
        "id": "ESzFfKh-o6aA",
        "colab_type": "code",
        "colab": {}
      },
      "source": [
        "def held_karp(v, S, time_threshold):\n",
        "    subset_name = ''.join(S) + \" \" + str(v) # name of the actual subset\n",
        "    if len(S) == 1 and v in S:\n",
        "        return weights.get_weight(starting_node, v)\n",
        "    elif subset_name in d:\n",
        "        return d[subset_name]\n",
        "\n",
        "    mindist, minprec, node_names_copy = inf, None, copy.deepcopy(S)\n",
        "    node_names_copy.remove(v)\n",
        "\n",
        "    for u in node_names_copy:\n",
        "        if time.time() > time_threshold:\n",
        "            break\n",
        "        dist = held_karp(u, node_names_copy, time_threshold)\n",
        "        uv_weight = weights.get_weight(u, v)\n",
        "        if dist + uv_weight < mindist:\n",
        "            mindist, minprec = dist + uv_weight, u\n",
        "    d[subset_name], p[subset_name] = mindist, minprec\n",
        "    return int(mindist) if mindist != inf else inf"
      ],
      "execution_count": 0,
      "outputs": []
    },
    {
      "cell_type": "markdown",
      "metadata": {
        "id": "9FGZsX4P66ot",
        "colab_type": "text"
      },
      "source": [
        "# Closest Insertion\n",
        "\n",
        "Given a set of vertexes _C $\\subseteq$ V_, which represents a partial circuit, and a vertex _k$\\notin$C_, we define the distance of _k_ from _C_ as the minimum weight of an edge which connects _k_ to _C_.\n",
        "The delta method is an implementation of that function. \n"
      ]
    },
    {
      "cell_type": "code",
      "metadata": {
        "id": "5bO5AE6a7Aac",
        "colab_type": "code",
        "colab": {}
      },
      "source": [
        "def delta(k, C):\n",
        "    min_dist, min_index = inf, -1\n",
        "    for c in range(len(C)):\n",
        "        dist = weights.get_weight(C[c], k)\n",
        "        if dist < min_dist:\n",
        "            min_dist = dist\n",
        "            min_index = C[c]\n",
        "    return min_dist, min_index"
      ],
      "execution_count": 0,
      "outputs": []
    },
    {
      "cell_type": "markdown",
      "metadata": {
        "id": "1wIhrJsfxB9h",
        "colab_type": "text"
      },
      "source": [
        "Closest Insertion is a constructive heuristic which picks on each iteration a node by following specific rules. In particular, this heuristic is composed by the following steps:\n",
        "\n",
        "* **Initialization**: starts from the circuit containing only the starting node, the algorithm finds a vertex j that minimizes _w(0,j)_ and builds the partial circuit _(0,j,0)_.\n",
        "\n",
        "* **Selection**: finds a vertex _k$\\notin$C_, which minimizes the function **delta(k,C)** defined above.\n",
        "\n",
        "* **Insertion**: finds an edge _{i,j}$\\in$C_, which minimizes the value _w(i,k) + w(k,j) - w(i,j)_ and insert _k_ between _i_ and _j_.\n",
        "\n",
        "Repeats **Selection** and **Insertion** until it has inserted all the nodes of the graph."
      ]
    },
    {
      "cell_type": "code",
      "metadata": {
        "id": "NxkCmPBWZjNW",
        "colab_type": "code",
        "colab": {}
      },
      "source": [
        "def closest_insertion():\n",
        "    solution = 0\n",
        "\n",
        "    # Initialization\n",
        "    node_names_copy = copy.deepcopy(node_names) # copying set of nodes\n",
        "    node_names_copy.remove(starting_node) # removing first node\n",
        "    min_dist_first, min_index_first = delta(starting_node, node_names_copy)\n",
        "    C = [ starting_node, min_index_first, starting_node ]\n",
        "    node_names_copy.remove(min_index_first)\n",
        "    solution = solution + min_dist_first * 2\n",
        "    while not len(node_names_copy) == 0:\n",
        "\n",
        "        # Selection\n",
        "        min_dist, min_index = inf, -1\n",
        "        for k in node_names_copy:\n",
        "            delta_dist, delta_index = delta(k, C)\n",
        "            if delta_dist < min_dist:\n",
        "                min_dist, min_index = delta_dist, k\n",
        "        node_names_copy.remove(min_index)\n",
        "        \n",
        "        # Insertion\n",
        "        min_i, min_value = -1, inf\n",
        "        for i in range(len(C) - 1):\n",
        "            wik, wkj, wij = weights.get_weight(C[i], min_index), weights.get_weight(C[i+1], min_index), weights.get_weight(C[i], C[i+1]) \n",
        "            #wkj = weights.get_weight(C[i+1], min_index)         \n",
        "            #wij = weights.get_weight(C[i], C[i+1])   \n",
        "            actual_value = wik + wkj - wij\n",
        "            if actual_value < min_value:\n",
        "                min_value, min_i = actual_value, i\n",
        "        solution = solution + min_value\n",
        "        C.insert(min_i+1, min_index)\n",
        "\n",
        "    return int(solution)\n"
      ],
      "execution_count": 0,
      "outputs": []
    },
    {
      "cell_type": "markdown",
      "metadata": {
        "id": "dBoK7JcvxF8g",
        "colab_type": "text"
      },
      "source": [
        "# 2-Approximation\n",
        "\n"
      ]
    },
    {
      "cell_type": "markdown",
      "metadata": {
        "id": "h5s-16c1_We3",
        "colab_type": "text"
      },
      "source": [
        "2-Approximation starts by building a MST of the graph given as input. After that, the algorithm uses the **preorder** function which visits the MST with a depth-first-search, and adds to a list the nodes that it hasn't encountered yet.\n",
        "\n",
        "The order in which the **preorder** function visits the nodes is the path returned by the algorithm."
      ]
    },
    {
      "cell_type": "code",
      "metadata": {
        "id": "tfTgFKexo_gQ",
        "colab_type": "code",
        "colab": {}
      },
      "source": [
        "def preorder(path, v, childrens_list):\n",
        "    v = int(v)\n",
        "    if v not in path:\n",
        "        path.append(v)\n",
        "    if v in childrens_list:\n",
        "        for u in childrens_list[v]:\n",
        "            preorder(path, u, childrens_list)\n",
        "\n",
        "def two_approximation():\n",
        "    childrens_list, mst = {}, prim(starting_node, edge_list, node_names, weights)\n",
        "    for edge in mst:\n",
        "        parent = mst[edge]['parent']\n",
        "        if parent not in childrens_list:\n",
        "            childrens_list[parent] = []\n",
        "        childrens_list[parent].append(edge)\n",
        "    path = []\n",
        "    preorder(path, starting_node, childrens_list)\n",
        "    path.append(int(starting_node))\n",
        "    solution = 0\n",
        "    for i in range(len(path) - 1):\n",
        "        solution = solution + weights.get_weight(path[i], path[i + 1])\n",
        "\n",
        "    return int(solution)"
      ],
      "execution_count": 0,
      "outputs": []
    },
    {
      "cell_type": "markdown",
      "metadata": {
        "id": "-8ejZzl1xJ1V",
        "colab_type": "text"
      },
      "source": [
        "# Running the algorithms\n",
        "\n",
        "First we define an hash which contains for each dataset, that was required to analize in the homework, the weights of the optimal solutions.\n",
        "\n",
        "This data structure will be useful later to calculate the errors of the different algorithms."
      ]
    },
    {
      "cell_type": "code",
      "metadata": {
        "id": "X4h7o2QeEfgw",
        "colab_type": "code",
        "colab": {}
      },
      "source": [
        "optimal_solutions = {\n",
        "    \"burma14.tsp\": 3323,\n",
        "    \"ulysses16.tsp\": 6859,\n",
        "    \"ulysses22.tsp\": 7013,\n",
        "    \"eil51.tsp\": 426,\n",
        "    \"berlin52.tsp\": 7542,\n",
        "    \"kroD100.tsp\": 21294,\n",
        "    \"kroA100.tsp\": 21282,\n",
        "    \"ch150.tsp\": 6528,\n",
        "    \"gr202.tsp\": 40160,\n",
        "    \"gr229.tsp\": 134602,\n",
        "    \"pcb442.tsp\": 50778 ,\n",
        "    \"d493.tsp\":\t35002,\n",
        "    \"dsj1000.tsp\":18659688 \n",
        "}"
      ],
      "execution_count": 0,
      "outputs": []
    },
    {
      "cell_type": "markdown",
      "metadata": {
        "id": "jVaPPFC4Fz7T",
        "colab_type": "text"
      },
      "source": [
        "Then we define a method which given the path to a single dataset, executes all three methods defined before and collects all the relevant data."
      ]
    },
    {
      "cell_type": "code",
      "metadata": {
        "id": "63YW1j0vQ8us",
        "colab_type": "code",
        "outputId": "a9f5ab26-522b-4c7f-dfdd-ebc3d6d4e1d6",
        "colab": {
          "base_uri": "https://localhost:8080/",
          "height": 399
        }
      },
      "source": [
        "def execute_methods(dataset_name):\n",
        "    print(\"-------------------------------------------------------------------\")\n",
        "    print(\"Executing Held Karp Algorithm on {} dataset.\".format(dataset_name))\n",
        "    starting_time = time.time()\n",
        "    held_karp_value = held_karp(starting_node, node_names, starting_time + 120)\n",
        "    held_karp_time = '%.5f'%(time.time() - starting_time)\n",
        "    print(\"Best solution found in {} seconds : {}\".format(held_karp_time, held_karp_value))\n",
        "    \n",
        "    print(\"Executing Closest Insertion Algorithm on {} dataset.\".format(dataset_name))\n",
        "    starting_time = time.time()\n",
        "    closest_insertion_value = closest_insertion()\n",
        "    closest_insertion_time = '%.5f'%(time.time() - starting_time)\n",
        "    print(\"Best solution found in {} seconds : {}\".format(closest_insertion_time, closest_insertion_value))\n",
        "    \n",
        "    print(\"Executing 2-Approximation Algorithm on {} dataset.\".format(dataset_name))\n",
        "    starting_time = time.time()\n",
        "    two_approximation_value = two_approximation()\n",
        "    two_approximation_time = '%.5f'%(time.time() - starting_time)\n",
        "    print(\"Best solution found in {} seconds : {}\".format(two_approximation_time, two_approximation_value))\n",
        "    print()\n",
        "\n",
        "    held_karp_error = '%.2f'%(((held_karp_value - optimal_solutions[dataset_name]) / optimal_solutions[dataset_name])*100)\n",
        "    closest_insertion_error = '%.2f'%(((closest_insertion_value - optimal_solutions[dataset_name]) / optimal_solutions[dataset_name])*100)\n",
        "    two_approximation_error = '%.2f'%(((two_approximation_value- optimal_solutions[dataset_name]) / optimal_solutions[dataset_name])*100)\n",
        "\n",
        "    return [\n",
        "            held_karp_value, held_karp_time, held_karp_error,\n",
        "            closest_insertion_value, closest_insertion_time, closest_insertion_error,\n",
        "            two_approximation_value, two_approximation_time, two_approximation_error\n",
        "    ]"
      ],
      "execution_count": 0,
      "outputs": [
        {
          "output_type": "stream",
          "text": [
            "-------------------------------------------------------------------\n",
            "Executing Held Karp Algorithm on burma14.tsp dataset.\n",
            "Best solution found in 1.00980 seconds : 3323\n",
            "Executing Closest Insertion Algorithm on burma14.tsp dataset.\n",
            "Best solution found in 0.00093 seconds : 3588\n",
            "Executing 2-Approximation Algorithm on burma14.tsp dataset.\n",
            "Best solution found in 0.00053 seconds : 4003\n",
            "\n",
            "-------------------------------------------------------------------\n",
            "Executing Held Karp Algorithm on ulysses16.tsp dataset.\n",
            "Best solution found in 5.34404 seconds : 6859\n",
            "Executing Closest Insertion Algorithm on ulysses16.tsp dataset.\n",
            "Best solution found in 0.00134 seconds : 7712\n",
            "Executing 2-Approximation Algorithm on ulysses16.tsp dataset.\n",
            "Best solution found in 0.00065 seconds : 7788\n",
            "\n"
          ],
          "name": "stdout"
        },
        {
          "output_type": "execute_result",
          "data": {
            "text/html": [
              "<style  type=\"text/css\" >\n",
              "    #T_623c0cc0_991e_11ea_88d9_0242ac1c0002 th {\n",
              "          font-size: 10pt;\n",
              "          padding-top: 5px;\n",
              "          padding-bottom: 5px;\n",
              "          padding-left: 10px;\n",
              "          padding-right: 10px;\n",
              "          border-color: black;\n",
              "          border-style: solid;\n",
              "          border-width: 1px;\n",
              "    }    #T_623c0cc0_991e_11ea_88d9_0242ac1c0002row0_col0 {\n",
              "            font-size:  10pt;\n",
              "            border-color:  black;\n",
              "            border-style:  solid;\n",
              "            border-width:  1px;\n",
              "            padding:  5px;\n",
              "            text-align:  center;\n",
              "        }    #T_623c0cc0_991e_11ea_88d9_0242ac1c0002row0_col1 {\n",
              "            font-size:  10pt;\n",
              "            border-color:  black;\n",
              "            border-style:  solid;\n",
              "            border-width:  1px;\n",
              "            padding:  5px;\n",
              "            text-align:  center;\n",
              "        }    #T_623c0cc0_991e_11ea_88d9_0242ac1c0002row0_col2 {\n",
              "            font-size:  10pt;\n",
              "            border-color:  black;\n",
              "            border-style:  solid;\n",
              "            border-width:  1px;\n",
              "            padding:  5px;\n",
              "            text-align:  center;\n",
              "        }    #T_623c0cc0_991e_11ea_88d9_0242ac1c0002row0_col3 {\n",
              "            font-size:  10pt;\n",
              "            border-color:  black;\n",
              "            border-style:  solid;\n",
              "            border-width:  1px;\n",
              "            padding:  5px;\n",
              "            text-align:  center;\n",
              "        }    #T_623c0cc0_991e_11ea_88d9_0242ac1c0002row0_col4 {\n",
              "            font-size:  10pt;\n",
              "            border-color:  black;\n",
              "            border-style:  solid;\n",
              "            border-width:  1px;\n",
              "            padding:  5px;\n",
              "            text-align:  center;\n",
              "        }    #T_623c0cc0_991e_11ea_88d9_0242ac1c0002row0_col5 {\n",
              "            font-size:  10pt;\n",
              "            border-color:  black;\n",
              "            border-style:  solid;\n",
              "            border-width:  1px;\n",
              "            padding:  5px;\n",
              "            text-align:  center;\n",
              "        }    #T_623c0cc0_991e_11ea_88d9_0242ac1c0002row0_col6 {\n",
              "            font-size:  10pt;\n",
              "            border-color:  black;\n",
              "            border-style:  solid;\n",
              "            border-width:  1px;\n",
              "            padding:  5px;\n",
              "            text-align:  center;\n",
              "        }    #T_623c0cc0_991e_11ea_88d9_0242ac1c0002row0_col7 {\n",
              "            font-size:  10pt;\n",
              "            border-color:  black;\n",
              "            border-style:  solid;\n",
              "            border-width:  1px;\n",
              "            padding:  5px;\n",
              "            text-align:  center;\n",
              "        }    #T_623c0cc0_991e_11ea_88d9_0242ac1c0002row0_col8 {\n",
              "            font-size:  10pt;\n",
              "            border-color:  black;\n",
              "            border-style:  solid;\n",
              "            border-width:  1px;\n",
              "            padding:  5px;\n",
              "            text-align:  center;\n",
              "        }    #T_623c0cc0_991e_11ea_88d9_0242ac1c0002row1_col0 {\n",
              "            font-size:  10pt;\n",
              "            border-color:  black;\n",
              "            border-style:  solid;\n",
              "            border-width:  1px;\n",
              "            padding:  5px;\n",
              "            text-align:  center;\n",
              "        }    #T_623c0cc0_991e_11ea_88d9_0242ac1c0002row1_col1 {\n",
              "            font-size:  10pt;\n",
              "            border-color:  black;\n",
              "            border-style:  solid;\n",
              "            border-width:  1px;\n",
              "            padding:  5px;\n",
              "            text-align:  center;\n",
              "        }    #T_623c0cc0_991e_11ea_88d9_0242ac1c0002row1_col2 {\n",
              "            font-size:  10pt;\n",
              "            border-color:  black;\n",
              "            border-style:  solid;\n",
              "            border-width:  1px;\n",
              "            padding:  5px;\n",
              "            text-align:  center;\n",
              "        }    #T_623c0cc0_991e_11ea_88d9_0242ac1c0002row1_col3 {\n",
              "            font-size:  10pt;\n",
              "            border-color:  black;\n",
              "            border-style:  solid;\n",
              "            border-width:  1px;\n",
              "            padding:  5px;\n",
              "            text-align:  center;\n",
              "        }    #T_623c0cc0_991e_11ea_88d9_0242ac1c0002row1_col4 {\n",
              "            font-size:  10pt;\n",
              "            border-color:  black;\n",
              "            border-style:  solid;\n",
              "            border-width:  1px;\n",
              "            padding:  5px;\n",
              "            text-align:  center;\n",
              "        }    #T_623c0cc0_991e_11ea_88d9_0242ac1c0002row1_col5 {\n",
              "            font-size:  10pt;\n",
              "            border-color:  black;\n",
              "            border-style:  solid;\n",
              "            border-width:  1px;\n",
              "            padding:  5px;\n",
              "            text-align:  center;\n",
              "        }    #T_623c0cc0_991e_11ea_88d9_0242ac1c0002row1_col6 {\n",
              "            font-size:  10pt;\n",
              "            border-color:  black;\n",
              "            border-style:  solid;\n",
              "            border-width:  1px;\n",
              "            padding:  5px;\n",
              "            text-align:  center;\n",
              "        }    #T_623c0cc0_991e_11ea_88d9_0242ac1c0002row1_col7 {\n",
              "            font-size:  10pt;\n",
              "            border-color:  black;\n",
              "            border-style:  solid;\n",
              "            border-width:  1px;\n",
              "            padding:  5px;\n",
              "            text-align:  center;\n",
              "        }    #T_623c0cc0_991e_11ea_88d9_0242ac1c0002row1_col8 {\n",
              "            font-size:  10pt;\n",
              "            border-color:  black;\n",
              "            border-style:  solid;\n",
              "            border-width:  1px;\n",
              "            padding:  5px;\n",
              "            text-align:  center;\n",
              "        }</style><table id=\"T_623c0cc0_991e_11ea_88d9_0242ac1c0002\" ><thead>    <tr>        <th class=\"index_name level0\" ></th>        <th class=\"col_heading level0 col0\" colspan=3>Held-Karp</th>        <th class=\"col_heading level0 col3\" colspan=3>Closest Insertion</th>        <th class=\"col_heading level0 col6\" colspan=3>2-Approssimato</th>    </tr>    <tr>        <th class=\"index_name level1\" >Istanza</th>        <th class=\"col_heading level1 col0\" >Soluzione</th>        <th class=\"col_heading level1 col1\" >Tempo (s)</th>        <th class=\"col_heading level1 col2\" >Errore (%)</th>        <th class=\"col_heading level1 col3\" >Soluzione</th>        <th class=\"col_heading level1 col4\" >Tempo (s)</th>        <th class=\"col_heading level1 col5\" >Errore (%)</th>        <th class=\"col_heading level1 col6\" >Soluzione</th>        <th class=\"col_heading level1 col7\" >Tempo (s)</th>        <th class=\"col_heading level1 col8\" >Errore (%)</th>    </tr></thead><tbody>\n",
              "                <tr>\n",
              "                        <th id=\"T_623c0cc0_991e_11ea_88d9_0242ac1c0002level0_row0\" class=\"row_heading level0 row0\" >burma14.tsp</th>\n",
              "                        <td id=\"T_623c0cc0_991e_11ea_88d9_0242ac1c0002row0_col0\" class=\"data row0 col0\" >3323</td>\n",
              "                        <td id=\"T_623c0cc0_991e_11ea_88d9_0242ac1c0002row0_col1\" class=\"data row0 col1\" >1.00980</td>\n",
              "                        <td id=\"T_623c0cc0_991e_11ea_88d9_0242ac1c0002row0_col2\" class=\"data row0 col2\" >0.00</td>\n",
              "                        <td id=\"T_623c0cc0_991e_11ea_88d9_0242ac1c0002row0_col3\" class=\"data row0 col3\" >3588</td>\n",
              "                        <td id=\"T_623c0cc0_991e_11ea_88d9_0242ac1c0002row0_col4\" class=\"data row0 col4\" >0.00093</td>\n",
              "                        <td id=\"T_623c0cc0_991e_11ea_88d9_0242ac1c0002row0_col5\" class=\"data row0 col5\" >7.97</td>\n",
              "                        <td id=\"T_623c0cc0_991e_11ea_88d9_0242ac1c0002row0_col6\" class=\"data row0 col6\" >4003</td>\n",
              "                        <td id=\"T_623c0cc0_991e_11ea_88d9_0242ac1c0002row0_col7\" class=\"data row0 col7\" >0.00053</td>\n",
              "                        <td id=\"T_623c0cc0_991e_11ea_88d9_0242ac1c0002row0_col8\" class=\"data row0 col8\" >20.46</td>\n",
              "            </tr>\n",
              "            <tr>\n",
              "                        <th id=\"T_623c0cc0_991e_11ea_88d9_0242ac1c0002level0_row1\" class=\"row_heading level0 row1\" >ulysses16.tsp</th>\n",
              "                        <td id=\"T_623c0cc0_991e_11ea_88d9_0242ac1c0002row1_col0\" class=\"data row1 col0\" >6859</td>\n",
              "                        <td id=\"T_623c0cc0_991e_11ea_88d9_0242ac1c0002row1_col1\" class=\"data row1 col1\" >5.34404</td>\n",
              "                        <td id=\"T_623c0cc0_991e_11ea_88d9_0242ac1c0002row1_col2\" class=\"data row1 col2\" >0.00</td>\n",
              "                        <td id=\"T_623c0cc0_991e_11ea_88d9_0242ac1c0002row1_col3\" class=\"data row1 col3\" >7712</td>\n",
              "                        <td id=\"T_623c0cc0_991e_11ea_88d9_0242ac1c0002row1_col4\" class=\"data row1 col4\" >0.00134</td>\n",
              "                        <td id=\"T_623c0cc0_991e_11ea_88d9_0242ac1c0002row1_col5\" class=\"data row1 col5\" >12.44</td>\n",
              "                        <td id=\"T_623c0cc0_991e_11ea_88d9_0242ac1c0002row1_col6\" class=\"data row1 col6\" >7788</td>\n",
              "                        <td id=\"T_623c0cc0_991e_11ea_88d9_0242ac1c0002row1_col7\" class=\"data row1 col7\" >0.00065</td>\n",
              "                        <td id=\"T_623c0cc0_991e_11ea_88d9_0242ac1c0002row1_col8\" class=\"data row1 col8\" >13.54</td>\n",
              "            </tr>\n",
              "    </tbody></table>"
            ],
            "text/plain": [
              "<pandas.io.formats.style.Styler at 0x7f22d43be550>"
            ]
          },
          "metadata": {
            "tags": []
          },
          "execution_count": 44
        }
      ]
    },
    {
      "cell_type": "markdown",
      "metadata": {
        "id": "acEXUpH_GTWK",
        "colab_type": "text"
      },
      "source": [
        "## Plotting the results"
      ]
    },
    {
      "cell_type": "code",
      "metadata": {
        "id": "Td1j7vfMXcKf",
        "colab_type": "code",
        "colab": {}
      },
      "source": [
        "res = []\n",
        "names = os.listdir(dataset_path)\n",
        "for dataset in names:\n",
        "    node_names, weights, edge_list = import_graph(dataset_path + dataset)\n",
        "    d, p, starting_node = {}, {}, node_names[0]\n",
        "    res.append(execute_methods(dataset))\n",
        "\n",
        "header = pd.MultiIndex.from_product([['Held-Karp','Closest Insertion','2-Approssimato'], ['Soluzione', 'Tempo (s)', 'Errore (%)']], names=['','Istanza'])\n",
        "table_properties = {'font-size': '10pt','border-color': 'black','border-style' :'solid' ,'border-width': '1px','padding': '5px','text-align': 'center'}\n",
        "header_properties = [{'selector': 'th', 'props': [('font-size', '10pt'),('padding-top', '5px'),('padding-bottom', '5px'),('padding-left', '10px'),('padding-right', '10px'),('border-color', 'black'),('border-style' ,'solid') ,('border-width', '1px')]}]\n",
        "\n",
        "df = pd.DataFrame(res, index=names, columns=header).style.set_properties(**table_properties).set_table_styles(header_properties)\n",
        "df"
      ],
      "execution_count": 0,
      "outputs": []
    }
  ]
}